{
 "cells": [
  {
   "cell_type": "markdown",
   "metadata": {},
   "source": [
    "# Pràctica 6: Naive Bayes\n",
    "\n",
    "## Gerard Santacatalina Rubio - 1534002"
   ]
  },
  {
   "cell_type": "markdown",
   "metadata": {},
   "source": [
    "## Avaluació i entregues\n",
    "\n",
    "### Entregues\n",
    "Les pràctiques es realitzarán els divendres de 15:00 a 17:00. Cada setmana presentarem nous mètodes i algorismes vistos a la classe de teoria.\n",
    "\n",
    "L'entrega, es realitzarà el següent **dijous abans de les 23:59**, és a dir, quasibé tota una setmana per a realitzar les tasques. Es pujará un .ipynb ja executat, **sense ZIP**, on no només hi hagi codi sinó també text explicatiu de gràfiques, resultats, i analisis. Tingueu en compte que no es valora tant la quantitat, sino la qualitat del que s'hi explica. Hem d'aprendre a extreure el gra de la palla i presentar-ho de forma correcta i concisa.\n",
    "\n",
    "\n",
    "### Avaluació\n",
    "Aquesta pràctica tractará els següents temes:\n",
    "\n",
    "* A. Ús Naive Bayes Sci-kit Learn (60%)\n",
    "* B. Implementació Naive Bayes (40%)\n",
    "\n",
    "Per descomptat, tots els experiments seguiran aplicant els coneixements apresos a les pràctiques anteriors, és a dir, aplicant una metodologia correcta de crosvalidació per tal de poder extreure conclusions vàlides.\n",
    "\n",
    "<a href=\"https://www.flickr.com/photos/mattbuck007/3676624894\"><img src=\"https://3qeqpr26caki16dnhd19sv6by6v-wpengine.netdna-ssl.com/wp-content/uploads/2014/12/naive-bayes-classifier.jpg\" width=500></a>\n"
   ]
  },
  {
   "cell_type": "markdown",
   "metadata": {},
   "source": [
    "## Introducció\n",
    "\n",
    "Els models Naive Bayes són un grup d’algoritmes de classificació extremadament ràpids i senzills que sovint són adequats per a conjunts de dades de molt alta dimensió.\n",
    "\n",
    "Com que són tan ràpids i tenen tan pocs paràmetres, acaben sent molt útils com a ràpid baseline per a un problemes de classificació senzills.\n",
    "\n",
    "Aquesta secció se centrarà en una explicació intuïtiva de com funcionen els classificadors ingenus de Bayes.\n"
   ]
  },
  {
   "cell_type": "markdown",
   "metadata": {},
   "source": [
    "### Classificació bayesiana\n",
    "\n",
    "Els classificadors de Bayes ingenus es basen en el teorema de Bayes, que és una equació que descriu la relació de probabilitats condicionals de quantitats estadístiques.\n",
    "\n",
    "A la classificació bayesiana, ens interessa trobar la probabilitat d'una etiqueta donades algunes característiques observades, que podem escriure com $ P (y ~|~ X) $.\n",
    "\n",
    "El teorema de Bayes ens explica com expressar-ho en termes de quantitats que podem calcular més directament:\n",
    "\n",
    "$$\n",
    "P(y \\mid x_1, \\dots, x_n) = \\frac{P(y) P(x_1, \\dots, x_n \\mid y)}\n",
    "                                 {P(x_1, \\dots, x_n)}\n",
    "$$\n",
    "\n",
    "Utilitzant l'assumpció ingenua d'independencia condicional, podem simplificar la relació per tot $i$.\n",
    "\n",
    "$$\n",
    "P(y \\mid x_1, \\dots, x_n) = \\frac{P(y) \\prod_{i=1}^{n} P(x_i \\mid y)}\n",
    "                                 {P(x_1, \\dots, x_n)}\n",
    "$$\n",
    "\n",
    "Ja que $P(x_1, \\dots, x_n)$ és constant donada una entrada, es pot utilitzar la següent simplificació, que será donarà un resultat proporcional al real, per tant, tindrem la mateixa sortida.\n",
    "\n",
    "$$ P(y \\mid x_1, \\dots, x_n) \\propto P(y) \\prod_{i=1}^{n} P(x_i \\mid y) $$\n",
    "\n",
    "La classificació final s'obtindrà:\n",
    "\n",
    "$$ \\hat{y} = \\arg\\max_y P(y) \\prod_{i=1}^{n} P(x_i \\mid y) $$\n"
   ]
  },
  {
   "cell_type": "markdown",
   "metadata": {},
   "source": [
    "Tingueu en compte que $P (y)$ també s’anomena **probabilitat de classe** i $P (x_i | y)$ s’anomena **probabilitat condicional**. \n",
    "\n",
    "Els diferents classificadors ingenus de Bayes es diferencien principalment pels supòsits que fan sobre la distribució de $P (x_i | y)$. \n",
    "\n",
    "Intentem aplicar la fórmula anterior manualment al nostre conjunt de dades meteorològiques. \n",
    "    "
   ]
  },
  {
   "cell_type": "markdown",
   "metadata": {},
   "source": [
    "### Exemple:\n",
    "\n",
    "Anem a veure un exemple [(extret d'aquesta web)](https://www.geeksforgeeks.org/naive-bayes-classifiers/). Considereu aquestes dades meteorològiques:"
   ]
  },
  {
   "cell_type": "code",
   "execution_count": 4,
   "metadata": {},
   "outputs": [
    {
     "data": {
      "text/html": [
       "<div>\n",
       "<style scoped>\n",
       "    .dataframe tbody tr th:only-of-type {\n",
       "        vertical-align: middle;\n",
       "    }\n",
       "\n",
       "    .dataframe tbody tr th {\n",
       "        vertical-align: top;\n",
       "    }\n",
       "\n",
       "    .dataframe thead th {\n",
       "        text-align: right;\n",
       "    }\n",
       "</style>\n",
       "<table border=\"1\" class=\"dataframe\">\n",
       "  <thead>\n",
       "    <tr style=\"text-align: right;\">\n",
       "      <th></th>\n",
       "      <th>Outlook</th>\n",
       "      <th>Temperature</th>\n",
       "      <th>Humidity</th>\n",
       "      <th>Windy</th>\n",
       "      <th>PlayGolf</th>\n",
       "    </tr>\n",
       "  </thead>\n",
       "  <tbody>\n",
       "    <tr>\n",
       "      <th>0</th>\n",
       "      <td>Rainy</td>\n",
       "      <td>Hot</td>\n",
       "      <td>High</td>\n",
       "      <td>False</td>\n",
       "      <td>No</td>\n",
       "    </tr>\n",
       "    <tr>\n",
       "      <th>1</th>\n",
       "      <td>Rainy</td>\n",
       "      <td>Hot</td>\n",
       "      <td>High</td>\n",
       "      <td>True</td>\n",
       "      <td>No</td>\n",
       "    </tr>\n",
       "    <tr>\n",
       "      <th>2</th>\n",
       "      <td>Overcast</td>\n",
       "      <td>Hot</td>\n",
       "      <td>High</td>\n",
       "      <td>False</td>\n",
       "      <td>Yes</td>\n",
       "    </tr>\n",
       "    <tr>\n",
       "      <th>3</th>\n",
       "      <td>Sunny</td>\n",
       "      <td>Mild</td>\n",
       "      <td>High</td>\n",
       "      <td>False</td>\n",
       "      <td>Yes</td>\n",
       "    </tr>\n",
       "    <tr>\n",
       "      <th>4</th>\n",
       "      <td>Sunny</td>\n",
       "      <td>Cool</td>\n",
       "      <td>Normal</td>\n",
       "      <td>False</td>\n",
       "      <td>Yes</td>\n",
       "    </tr>\n",
       "    <tr>\n",
       "      <th>5</th>\n",
       "      <td>Sunny</td>\n",
       "      <td>Cool</td>\n",
       "      <td>Normal</td>\n",
       "      <td>True</td>\n",
       "      <td>No</td>\n",
       "    </tr>\n",
       "    <tr>\n",
       "      <th>6</th>\n",
       "      <td>Overcast</td>\n",
       "      <td>Cool</td>\n",
       "      <td>Normal</td>\n",
       "      <td>True</td>\n",
       "      <td>Yes</td>\n",
       "    </tr>\n",
       "    <tr>\n",
       "      <th>7</th>\n",
       "      <td>Rainy</td>\n",
       "      <td>Mild</td>\n",
       "      <td>High</td>\n",
       "      <td>False</td>\n",
       "      <td>No</td>\n",
       "    </tr>\n",
       "    <tr>\n",
       "      <th>8</th>\n",
       "      <td>Rainy</td>\n",
       "      <td>Cool</td>\n",
       "      <td>Normal</td>\n",
       "      <td>False</td>\n",
       "      <td>Yes</td>\n",
       "    </tr>\n",
       "    <tr>\n",
       "      <th>9</th>\n",
       "      <td>Sunny</td>\n",
       "      <td>Mild</td>\n",
       "      <td>Normal</td>\n",
       "      <td>False</td>\n",
       "      <td>Yes</td>\n",
       "    </tr>\n",
       "    <tr>\n",
       "      <th>10</th>\n",
       "      <td>Rainy</td>\n",
       "      <td>Mild</td>\n",
       "      <td>Normal</td>\n",
       "      <td>True</td>\n",
       "      <td>Yes</td>\n",
       "    </tr>\n",
       "    <tr>\n",
       "      <th>11</th>\n",
       "      <td>Overcast</td>\n",
       "      <td>Mild</td>\n",
       "      <td>High</td>\n",
       "      <td>True</td>\n",
       "      <td>Yes</td>\n",
       "    </tr>\n",
       "    <tr>\n",
       "      <th>12</th>\n",
       "      <td>Overcast</td>\n",
       "      <td>Hot</td>\n",
       "      <td>Normal</td>\n",
       "      <td>False</td>\n",
       "      <td>Yes</td>\n",
       "    </tr>\n",
       "    <tr>\n",
       "      <th>13</th>\n",
       "      <td>Sunny</td>\n",
       "      <td>Mild</td>\n",
       "      <td>High</td>\n",
       "      <td>True</td>\n",
       "      <td>No</td>\n",
       "    </tr>\n",
       "  </tbody>\n",
       "</table>\n",
       "</div>"
      ],
      "text/plain": [
       "     Outlook Temperature Humidity  Windy PlayGolf\n",
       "0      Rainy         Hot     High  False       No\n",
       "1      Rainy         Hot     High   True       No\n",
       "2   Overcast         Hot     High  False      Yes\n",
       "3      Sunny        Mild     High  False      Yes\n",
       "4      Sunny        Cool   Normal  False      Yes\n",
       "5      Sunny        Cool   Normal   True       No\n",
       "6   Overcast        Cool   Normal   True      Yes\n",
       "7      Rainy        Mild     High  False       No\n",
       "8      Rainy        Cool   Normal  False      Yes\n",
       "9      Sunny        Mild   Normal  False      Yes\n",
       "10     Rainy        Mild   Normal   True      Yes\n",
       "11  Overcast        Mild     High   True      Yes\n",
       "12  Overcast         Hot   Normal  False      Yes\n",
       "13     Sunny        Mild     High   True       No"
      ]
     },
     "metadata": {},
     "output_type": "display_data"
    }
   ],
   "source": [
    "import pandas as pd\n",
    "\n",
    "dataGolf = pd.read_csv('playgolf.csv', delimiter=';')\n",
    "display(dataGolf)"
   ]
  },
  {
   "cell_type": "markdown",
   "metadata": {},
   "source": [
    "Haurem de fer algunes precomputacions al nostre conjunt de dades. Hem de trobar $P (x_i | y_j)$ per a cada $x_i$ a $X$ i $y_j$ a $y$. Tots aquests càlculs es mostren a les taules següents:\n",
    "\n",
    "\n",
    "<img src=\"https://media.geeksforgeeks.org/wp-content/uploads/naive-bayes-classification.png\" width=500>\n",
    "\n"
   ]
  },
  {
   "cell_type": "markdown",
   "metadata": {},
   "source": [
    "Cada taula ha calculat $P(x_i | y_j)$ per cada $x_i$ en $X$ i $y_j$ en $y$. Per exemple, la probabilitat de jugar a golf donat que la temperatura és fresca, és a dir, $P(temperature = Cool | PlayGolf = Yes) = 3/9$.\n",
    "\n",
    "A més, hem de trobar les probabilitats de classe ($P (y)$). Per exemple, $P (PlayGolf = Yes) = 9/14$.\n",
    "\n",
    "Ja podem fer servir el classificador ingenu de Bayes. Per exemple, si avui tenim aquestes condicions climatològiques, jugarem al golf?"
   ]
  },
  {
   "cell_type": "code",
   "execution_count": 5,
   "metadata": {},
   "outputs": [],
   "source": [
    "today_golf = ['Sunny', 'Hot', 'Normal', False]"
   ]
  },
  {
   "cell_type": "markdown",
   "metadata": {},
   "source": [
    "$P(Yes|today) = \\frac{P(Outlook=Sunny|Yes) P(Temperature=Hot|Yes) P(Humidity=Normal|Yes) P(Wind=False|Yes) P(Yes)}{P(today)}$\n",
    "\n",
    "$P(No|today) = \\frac{P(Outlook=Sunny|No) P(Temperature=Hot|No) P(Humidity=Normal|No) P(Wind=False|No) P(No)}{P(today)}$\n",
    "\n",
    "Ignorem el $P(today)$ per què es comú a les dues probabilitats, i calculem:\n",
    "\n",
    "$$P(Yes|today) \\propto \\frac{2}{9}·\\frac{2}{9}·\\frac{6}{9}·\\frac{6}{9}·\\frac{9}{14} \\simeq 0.0141 $$\n",
    "\n",
    "$$P(No|today) \\propto \\frac{3}{5}·\\frac{2}{5}·\\frac{1}{5}·\\frac{2}{5}·\\frac{5}{14} \\simeq 0.0068 $$\n",
    "\n",
    "Podem normalitzar-ho per sumar 1, \n",
    "$$P(Yes|today) = \\frac{0.0141}{0.0068+0.0141}=0.67$$\n",
    "$$P(No|today) = \\frac{0.0068}{0.0068+0.0141}=0.33$$"
   ]
  },
  {
   "cell_type": "code",
   "execution_count": 8,
   "metadata": {},
   "outputs": [
    {
     "data": {
      "text/html": [
       "<div>\n",
       "<style scoped>\n",
       "    .dataframe tbody tr th:only-of-type {\n",
       "        vertical-align: middle;\n",
       "    }\n",
       "\n",
       "    .dataframe tbody tr th {\n",
       "        vertical-align: top;\n",
       "    }\n",
       "\n",
       "    .dataframe thead th {\n",
       "        text-align: right;\n",
       "    }\n",
       "</style>\n",
       "<table border=\"1\" class=\"dataframe\">\n",
       "  <thead>\n",
       "    <tr style=\"text-align: right;\">\n",
       "      <th></th>\n",
       "      <th>Outlook</th>\n",
       "      <th>Temperature</th>\n",
       "      <th>Humidity</th>\n",
       "      <th>Windy</th>\n",
       "    </tr>\n",
       "  </thead>\n",
       "  <tbody>\n",
       "    <tr>\n",
       "      <th>0</th>\n",
       "      <td>Sunny</td>\n",
       "      <td>Hot</td>\n",
       "      <td>Normal</td>\n",
       "      <td>False</td>\n",
       "    </tr>\n",
       "  </tbody>\n",
       "</table>\n",
       "</div>"
      ],
      "text/plain": [
       "  Outlook Temperature Humidity  Windy\n",
       "0   Sunny         Hot   Normal  False"
      ]
     },
     "execution_count": 8,
     "metadata": {},
     "output_type": "execute_result"
    }
   ],
   "source": [
    "today_df_golf = pd.DataFrame([today_golf], columns = ['Outlook','Temperature', 'Humidity','Windy'])\n",
    "today_df_golf "
   ]
  },
  {
   "cell_type": "code",
   "execution_count": 9,
   "metadata": {},
   "outputs": [
    {
     "data": {
      "text/plain": [
       "array([[0.22086561, 0.77913439]])"
      ]
     },
     "execution_count": 9,
     "metadata": {},
     "output_type": "execute_result"
    }
   ],
   "source": [
    "from sklearn.preprocessing import OrdinalEncoder\n",
    "from sklearn.naive_bayes import CategoricalNB\n",
    "\n",
    "X_golf = dataGolf.drop(\"PlayGolf\", axis=\"columns\")\n",
    "y_golf = dataGolf[\"PlayGolf\"]\n",
    "\n",
    "enc = OrdinalEncoder()\n",
    "enc.fit(X_golf)\n",
    "X_golf_encoded = enc.transform(X_golf)\n",
    "\n",
    "model_cat = CategoricalNB(alpha=1)\n",
    "model_cat.fit(X_golf_encoded, y_golf)\n",
    "\n",
    "\n",
    "model_cat.predict_proba(enc.transform(today_df_golf))\n"
   ]
  },
  {
   "cell_type": "markdown",
   "metadata": {},
   "source": [
    "### Tipus de Classificadors Naive Bayes\n",
    "Tot el que necessitem ara és algun model per calcular **$ P(x_i \\mid y) $** per a cada etiqueta, i n'existeixen varis depenent del tipus de dades. \n",
    "\n",
    "Podeu trobar l'explicació més precisa a la documentació, pero a continuació n'explicarem els trets fonamentals (Sabrieu dir quin model hem fet servir en l'exemple anterior?):\n",
    "\n",
    "Tingueu en compte que $\\alpha$ es un prior de suavització, i tenen en compte característiques no vistes durant l'aprenentatge. Impedeixen probabilitats nul·les en altres càlculs. Si $\\alpha = 1$, s’anomena suavització de Laplace, mentre que $\\alpha < 1$ s’anomena suavització de Lidstone.\n"
   ]
  },
  {
   "cell_type": "markdown",
   "metadata": {},
   "source": [
    "#### [Gaussian Naive Bayes](https://scikit-learn.org/stable/modules/naive_bayes.html#gaussian-naive-bayes)\n",
    "Si tenim dades continues, i creiem que asumeixen una distribució normal, les podem modelitzar amb la mitja i la desviació estandar.\n",
    "$$P(x_i \\mid y) = \\frac{1}{\\sqrt{2\\pi\\sigma^2_y}} \\exp\\left(-\\frac{(x_i - \\mu_y)^2}{2\\sigma^2_y}\\right)$$\n",
    "\n",
    "#### [Multinomial Naive Bayes](https://scikit-learn.org/stable/modules/naive_bayes.html#multinomial-naive-bayes)\n",
    "Es fa servir si tenim caracteristiques que compten occurencies. Per exemple, en text, si comptem quantes vegades apareix un terme en el document (una paraula). \n",
    "\n",
    "$$P(x_i \\mid y)\\sim \\hat{\\theta}_{yi} · x_i = \\frac{ N_{yi} + \\alpha}{N_y + \\alpha n} · x_i$$\n",
    "\n",
    "#### [Bernoulli Naive Bayes](https://scikit-learn.org/stable/modules/naive_bayes.html#bernoulli-naive-bayes)\n",
    "Si les dades són binaries, millor utilitzar aquesta problabilitat.\n",
    "\n",
    "$$P(x_i \\mid y) = P(i \\mid y) · x_i + (1 - P(i \\mid y)) · (1 - x_i)$$\n",
    "\n",
    "#### [Categorical Naive Bayes](https://scikit-learn.org/stable/modules/naive_bayes.html#categorical-naive-bayes)\n",
    "Si les dades són categoriques.\n",
    "$$P(x_i = t \\mid y = c ; \\alpha) = \\frac{ N_{tic} + \\alpha}{N_{c} + \\alpha n_i}$$\n",
    "\n"
   ]
  },
  {
   "cell_type": "markdown",
   "metadata": {},
   "source": [
    "### Datasets\n",
    "\n",
    "Es faràn servir varies bases de dades per comparar els mètodes més idonis depenent del tipus de dades:\n",
    "\n",
    "* [**playgolf**](https://medium.com/@hrishavkmr/naive-bayes-in-machine-learning-5c0972340b76) (db: `playgolf.csv`)\n",
    "* [**iris**](https://scikit-learn.org/stable/modules/generated/sklearn.datasets.load_iris.html) (db: `datasets.load_iris`)\n",
    "* [**zoo**](https://www.kaggle.com/uciml/zoo-animal-classification) (db: `zoo_animal.csv`)\n",
    "* [**heart-disease-uci**](https://www.kaggle.com/ronitf/heart-disease-uci) (db: `heart.csv`)\n",
    "* [**20newsgroups**](https://scikit-learn.org/stable/modules/generated/sklearn.datasets.fetch_20newsgroups.html) (db: `datasets.fetch_20newsgroups`) (Al appendix veure-ho com tranformar text en caracteristiques)\n"
   ]
  },
  {
   "cell_type": "markdown",
   "metadata": {},
   "source": [
    "## A. Ús Naive Bayes Sci-kit Learn (60%)\n",
    "\n",
    "En aquest apartat us recomano que feu ús de funcions propies per a llegir una base de dades, aplicar-hi un model, fer crosvalidacio i que retorni els resultats. D'aquesta forma podreu reaprofitar molt de codi.\n",
    "\n",
    "\n",
    "\n"
   ]
  },
  {
   "cell_type": "markdown",
   "metadata": {},
   "source": [
    "Nota: la funció que he implementat de \"comprova_nans\" el propòsit que té és retornar-me la llista d'atributs o característiques del nostre dataset que tingui valors NaN's per poder tractar-los. En cas que no en tingui cap aleshores retornarà False. En aquest cas no he trobat cap valor NaN per les diferents característiques que tenim al dataset així que no s'ha donat una utilitat a aquesta funció però en cas d'haver tingut atributs NaN aquesta funció ens hagués retornat la llista d'atributs que haguéssim tingut que revisar per tal de tractar els valors inexistents i fer un model més estès pel que fa al tractament de nulls/nans com substituir-los per la mitjana de la resta de valors, fer un KNN per determinar alguna label en cas d'atributs categòrics o discrets, una regressió pel cas d'atributs continus etc. "
   ]
  },
  {
   "cell_type": "code",
   "execution_count": 32,
   "metadata": {},
   "outputs": [],
   "source": [
    "import pandas as pd\n",
    "import numpy as np\n",
    "from sklearn.datasets import load_iris, fetch_20newsgroups\n",
    "from sklearn.model_selection import cross_val_score\n",
    "from sklearn.preprocessing import OrdinalEncoder\n",
    "from sklearn.feature_extraction.text import TfidfVectorizer\n",
    "from sklearn.naive_bayes import MultinomialNB\n",
    "from sklearn.pipeline import make_pipeline\n",
    "from sklearn.metrics import classification_report\n",
    "\n",
    "def comprova_nans(dataset):\n",
    "    dic = {}\n",
    "    for i in dataset:\n",
    "        dic[i] = dataset[i].isnull().sum()  ##Per cada atribut del dataset comptem els NaN's que hi ha.\n",
    "    if sum(dic.values()) == False:          ##Si la suma dels NaN's dels atributs és 0 aleshores retornem.\n",
    "        return False\n",
    "    return [i for i in dic.keys() if dic[i]>0]  ##Altrament retornem la llista dels atributs amb NaN's. \n",
    "\n",
    "def load_dataset(which):\n",
    "    X, y = None, None\n",
    "    # si s'han de netejar o codificar les dades, feu-ho aqui directament\n",
    "    if which == \"iris\":\n",
    "        dataIris = load_iris()\n",
    "        X = pd.DataFrame(dataIris.data, columns=(dataIris.feature_names))\n",
    "        y = pd.DataFrame({'Classificacio':dataIris.target})\n",
    "        for i in [X, y]:\n",
    "            L = comprova_nans(i)\n",
    "            if not L:\n",
    "                pass\n",
    "            else:\n",
    "                print(\"Tenim NaN's:\\n\", L)  ##Aquí si tenim NaN's doncs ja definiriem les operacions a realitzar i tal com a la pràctica 1...\n",
    "        \n",
    "    elif which == \"playgolf\":\n",
    "        dataGolf = pd.read_csv('playgolf.csv', delimiter=';')\n",
    "        L = comprova_nans(dataGolf)\n",
    "        X_g = pd.DataFrame(dataGolf.drop(\"PlayGolf\", axis=\"columns\"))\n",
    "        y = pd.DataFrame(dataGolf[\"PlayGolf\"])\n",
    "        enc = OrdinalEncoder()\n",
    "        enc.fit(X_g)\n",
    "        X = enc.transform(X_g)\n",
    "        if L:\n",
    "            print(\"Tenim NaN's:\\n\", L)\n",
    "\n",
    "    elif which == \"zoo\":\n",
    "        dataZoo = pd.read_csv('zoo_animal.csv', delimiter=',')\n",
    "        L = comprova_nans(dataZoo)\n",
    "        X = pd.DataFrame(dataZoo.drop([\"class_type\", \"animal_name\"], axis=\"columns\"))\n",
    "        y = pd.DataFrame(dataZoo[\"class_type\"])\n",
    "        enc = OrdinalEncoder()\n",
    "        enc.fit(X)\n",
    "        X = enc.transform(X)\n",
    "        if L:\n",
    "            print(\"Tenim NaN's:\\n\", L)\n",
    "\n",
    "    elif which == \"heart-disease-uci\":\n",
    "        dataHDisease = pd.read_csv('heart.csv')\n",
    "        L = comprova_nans(dataHDisease)\n",
    "        X = pd.DataFrame(dataHDisease.drop(\"target\", axis=\"columns\"))\n",
    "        y = pd.DataFrame(dataHDisease[\"target\"])\n",
    "        \n",
    "        \n",
    "        if L:\n",
    "            print(\"Tenim NaN's:\\n\", L)\n",
    "            \n",
    "        \n",
    "    elif which == \"20newsgroups\":\n",
    "        dataNGroups = fetch_20newsgroups()\n",
    "        categories_m = ['talk.religion.misc', 'soc.religion.christian',\n",
    "            'sci.space', 'comp.graphics']\n",
    "        train = fetch_20newsgroups(subset='train', categories=categories_m)\n",
    "        test = fetch_20newsgroups(subset='test', categories=categories_m)\n",
    "        return train, test\n",
    "    \n",
    "    elif which == \"iris-bayes_imp\": ##Aquesta forma de retornar les dades específicament per l'exercici B per \n",
    "                                    ## la implementació scratch del Naive Bayes per Gaussian.\n",
    "        iris = load_iris()\n",
    "        \n",
    "        dataIris = pd.DataFrame(data=np.c_[iris['data'], iris['target']], \n",
    "                                columns = iris['feature_names'] + ['target'])\n",
    "        X = dataIris.drop(['target'], axis='columns')\n",
    "        y = dataIris['target']\n",
    "   \n",
    "    else:\n",
    "        raise ValueError(\"UNKNOWN DATASET\")\n",
    "    \n",
    "    return X, y\n",
    "\n",
    "def experiment(dataset_name, model, debug=True):\n",
    "    X, y = load_dataset(dataset_name)\n",
    "    cross=0\n",
    "\n",
    "    if X is None or y is None:\n",
    "        return -1\n",
    "\n",
    "    if debug:\n",
    "        model.fit(X, y.values.ravel())\n",
    "            \n",
    "        if dataset_name in [\"iris\", \"playgolf\"]:\n",
    "            cross = 5\n",
    "        elif dataset_name==\"zoo\":\n",
    "            cross = 2\n",
    "            \n",
    "        else:\n",
    "            return model.score(X, y.values.ravel())\n",
    "            \n",
    "        return cross_val_score(model, X, y.values.ravel(), cv=cross)\n",
    "    \n",
    "    else:            \n",
    "        try:\n",
    "            model.fit(X, y)\n",
    "            return model.score(X, y)\n",
    "        except Exception as e:\n",
    "            print('\\033[91m'+\"ERROR {}\".format(e)+'\\x1b[0m')\n",
    "            return -100    \n",
    "    \n"
   ]
  },
  {
   "cell_type": "code",
   "execution_count": 3,
   "metadata": {
    "scrolled": true
   },
   "outputs": [
    {
     "name": "stdout",
     "output_type": "stream",
     "text": [
      "\n",
      "CROSSVALIDANT iris\n",
      "iris + GaussianNB()         = 0.953\n",
      "iris + MultinomialNB()      = 0.953\n",
      "iris + BernoulliNB()        = 0.333\n",
      "iris + CategoricalNB(alpha=1e-10) = 0.933\n",
      "iris + CategoricalNB(alpha=1) = 0.927\n",
      "\n",
      "CROSSVALIDANT playgolf\n",
      "playgolf + GaussianNB()         = 0.633\n",
      "playgolf + MultinomialNB()      = 0.500\n",
      "playgolf + BernoulliNB()        = 0.667\n",
      "playgolf + CategoricalNB(alpha=1e-10) = 0.700\n",
      "playgolf + CategoricalNB(alpha=1) = 0.567\n",
      "\n",
      "CROSSVALIDANT zoo\n",
      "zoo + GaussianNB()         = 0.951\n",
      "zoo + MultinomialNB()      = 0.891\n",
      "zoo + BernoulliNB()        = 0.940\n",
      "zoo + CategoricalNB(alpha=1e-10) = 0.950\n",
      "zoo + CategoricalNB(alpha=1) = 0.940\n",
      "\n",
      "CROSSVALIDANT heart-disease-uci\n",
      "heart-disease-uci + GaussianNB()         = 0.842\n",
      "heart-disease-uci + MultinomialNB()      = 0.752\n",
      "heart-disease-uci + BernoulliNB()        = 0.832\n",
      "heart-disease-uci + CategoricalNB(alpha=1e-10) = 0.954\n",
      "heart-disease-uci + CategoricalNB(alpha=1) = 0.911\n",
      "\n",
      "CROSSVALIDANT 20newsgroups\n",
      "20newsgroups + GaussianNB()        = 0.925\n",
      "20newsgroups + MultinomialNB()        = 0.846\n",
      "20newsgroups + BernoulliNB()        = 0.806\n",
      "20newsgroups + CategoricalNB(alpha=1e-10)        = 0.278\n",
      "20newsgroups + CategoricalNB(alpha=1)        = 0.278\n",
      "DONE\n"
     ]
    }
   ],
   "source": [
    "from sklearn.naive_bayes import GaussianNB, MultinomialNB, BernoulliNB, CategoricalNB\n",
    "from sklearn.pipeline import make_pipeline\n",
    "from statistics import mean\n",
    "from sklearn.preprocessing import FunctionTransformer\n",
    "from statistics import mean\n",
    "from sklearn.preprocessing import OrdinalEncoder\n",
    "\n",
    "models = [GaussianNB(), MultinomialNB(), BernoulliNB(), CategoricalNB(alpha=1e-10), CategoricalNB(alpha=1)]\n",
    "datasets = [\"iris\", \"playgolf\", \"zoo\", \"heart-disease-uci\"]\n",
    "L = {}\n",
    "for d in datasets:\n",
    "    print(\"\\nCROSSVALIDANT \"+str(d))\n",
    "    M = []\n",
    "    for m in models:\n",
    "\n",
    "        try:\n",
    "            result = mean(experiment(d, m))\n",
    "        except:\n",
    "            result = experiment(d, m)\n",
    "        \n",
    "        M.append(round(result,3))\n",
    "        \n",
    "        print('{} + {:20} = {:.3f}'.format(d, str(m), (result)))\n",
    "    L[d] = M\n",
    "M = []\n",
    "            \n",
    "print(\"\\nCROSSVALIDANT 20newsgroups\")\n",
    "train, test = load_dataset(\"20newsgroups\")\n",
    "for i in [GaussianNB(), MultinomialNB(), BernoulliNB(), CategoricalNB(alpha=1e-10), CategoricalNB(alpha=1)]:\n",
    "    model = make_pipeline(TfidfVectorizer(),FunctionTransformer(lambda x: x.todense(), accept_sparse=True),  i)\n",
    "    model.fit(train.data, train.target)\n",
    "    labels = model.predict(test.data)\n",
    "    crossvalidacio = mean(cross_val_score(model, train.data, train.target))\n",
    "    M.append(round(crossvalidacio,3))\n",
    "    print(\"20newsgroups + \"+str(i)+\"        = \"+str(round(crossvalidacio,3)))\n",
    "L[\"20newsgroups\"] = M\n",
    "print(\"DONE\")"
   ]
  },
  {
   "cell_type": "code",
   "execution_count": 4,
   "metadata": {},
   "outputs": [
    {
     "data": {
      "text/plain": [
       "array([0.66666667, 1.        , 0.66666667, 0.33333333, 0.5       ])"
      ]
     },
     "execution_count": 4,
     "metadata": {},
     "output_type": "execute_result"
    }
   ],
   "source": [
    "instancia_model = GaussianNB()\n",
    "result = experiment('playgolf', instancia_model)\n",
    "result"
   ]
  },
  {
   "cell_type": "markdown",
   "metadata": {},
   "source": [
    "#### Preguntes\n",
    "1. Carrega els diferents datasets i explica quin tipus de classificador de bayes creieu que serà més adient per les dades.\n",
    "\n",
    "2. Fés una taula mostrant el accuracy de cada model per cada un dels datasets. \n",
    "\n",
    "3. Mostra els resultats gràficament. Quin tipus de Bayes funciona millor per quin dataset. De mitjana, quin ho fa millor?\n",
    "\n",
    "4. Et sorprenen el resultats? Com és possible que certs models funcionin per dades que en principi no haurien de funcionar? Explica els atributs més importants de cada classificador. Mostra'n exemples i analitza'ls.\n",
    "\n",
    "5. Si el nostre dataset conté dades de diferent naturalesa, és a dir, uns atributs categorics, d'altres continus, d'altres binaris, creus que es podrien combinar els diferents classificadors de bayes? Seguint la formula original, com es faria? \n"
   ]
  },
  {
   "cell_type": "markdown",
   "metadata": {},
   "source": [
    "#### Pregunta 1: Carrega els diferents datasets i explica quin tipus de classificador de bayes creieu que serà més adient per les dades."
   ]
  },
  {
   "cell_type": "markdown",
   "metadata": {},
   "source": [
    "Aquí tenim 5 datasets diferents, els carregarem un a un i mirarem de quin tipus són els diferents atributs que els componen. El tipus de classificador que hauriem de fer servir varia depenent del dataset (les dades) del problema que haurem de tractar. Les característiques de les dades varien molt sovint en funció del problema que descriuen, és per això pel que no farem servir un classificador concret amb unes dades que molt probablement segueixin una distribució normal, amb atributs continus o en cas que tinguem atributs categòrics i fins i tot certs atributs que descriuen ocurrències com també veurem en aquesta pràctica pels cassos en els que tinguem dades referents a textos/documents. "
   ]
  },
  {
   "cell_type": "markdown",
   "metadata": {},
   "source": [
    "### load_iris:"
   ]
  },
  {
   "cell_type": "code",
   "execution_count": 5,
   "metadata": {
    "scrolled": true
   },
   "outputs": [
    {
     "data": {
      "text/plain": [
       "(     sepal length (cm)  sepal width (cm)  petal length (cm)  petal width (cm)\n",
       " 0                  5.1               3.5                1.4               0.2\n",
       " 1                  4.9               3.0                1.4               0.2\n",
       " 2                  4.7               3.2                1.3               0.2\n",
       " 3                  4.6               3.1                1.5               0.2\n",
       " 4                  5.0               3.6                1.4               0.2\n",
       " ..                 ...               ...                ...               ...\n",
       " 145                6.7               3.0                5.2               2.3\n",
       " 146                6.3               2.5                5.0               1.9\n",
       " 147                6.5               3.0                5.2               2.0\n",
       " 148                6.2               3.4                5.4               2.3\n",
       " 149                5.9               3.0                5.1               1.8\n",
       " \n",
       " [150 rows x 4 columns],\n",
       "      Classificacio\n",
       " 0                0\n",
       " 1                0\n",
       " 2                0\n",
       " 3                0\n",
       " 4                0\n",
       " ..             ...\n",
       " 145              2\n",
       " 146              2\n",
       " 147              2\n",
       " 148              2\n",
       " 149              2\n",
       " \n",
       " [150 rows x 1 columns])"
      ]
     },
     "execution_count": 5,
     "metadata": {},
     "output_type": "execute_result"
    }
   ],
   "source": [
    "X, y = load_dataset(\"iris\")\n",
    "X, y"
   ]
  },
  {
   "cell_type": "markdown",
   "metadata": {},
   "source": [
    "Aquí com podem veure tenim 4 atributs numèrics continus que descriuen unes característiques concretes d'unes flors. Després tenim l'atribut que en aquest cas seria el target (el que volem predir), que ens classifica les flors en tres categories: 0-1-2, versicolor-virginica-setosa. Aleshores com aquí tractem un problema on no tenim dades binaries, ni categòriques i tampoc descriuen ocurrències farem servir un tipus de classificador anomenat Gaussian Naive Bayes que ens modelitzarà les dades fent servir la seva mitjana i desviació estàndard. Aquest seria el classificador que jo escolliria primerament si hagués d'escollir un, basant-me en la naturalesa del problema que he descrit."
   ]
  },
  {
   "cell_type": "markdown",
   "metadata": {},
   "source": [
    "### play_golf:"
   ]
  },
  {
   "cell_type": "code",
   "execution_count": 6,
   "metadata": {},
   "outputs": [
    {
     "data": {
      "text/html": [
       "<div>\n",
       "<style scoped>\n",
       "    .dataframe tbody tr th:only-of-type {\n",
       "        vertical-align: middle;\n",
       "    }\n",
       "\n",
       "    .dataframe tbody tr th {\n",
       "        vertical-align: top;\n",
       "    }\n",
       "\n",
       "    .dataframe thead th {\n",
       "        text-align: right;\n",
       "    }\n",
       "</style>\n",
       "<table border=\"1\" class=\"dataframe\">\n",
       "  <thead>\n",
       "    <tr style=\"text-align: right;\">\n",
       "      <th></th>\n",
       "      <th>Outlook</th>\n",
       "      <th>Temperature</th>\n",
       "      <th>Humidity</th>\n",
       "      <th>Windy</th>\n",
       "      <th>PlayGolf</th>\n",
       "    </tr>\n",
       "  </thead>\n",
       "  <tbody>\n",
       "    <tr>\n",
       "      <th>0</th>\n",
       "      <td>Rainy</td>\n",
       "      <td>Hot</td>\n",
       "      <td>High</td>\n",
       "      <td>False</td>\n",
       "      <td>No</td>\n",
       "    </tr>\n",
       "    <tr>\n",
       "      <th>1</th>\n",
       "      <td>Rainy</td>\n",
       "      <td>Hot</td>\n",
       "      <td>High</td>\n",
       "      <td>True</td>\n",
       "      <td>No</td>\n",
       "    </tr>\n",
       "    <tr>\n",
       "      <th>2</th>\n",
       "      <td>Overcast</td>\n",
       "      <td>Hot</td>\n",
       "      <td>High</td>\n",
       "      <td>False</td>\n",
       "      <td>Yes</td>\n",
       "    </tr>\n",
       "    <tr>\n",
       "      <th>3</th>\n",
       "      <td>Sunny</td>\n",
       "      <td>Mild</td>\n",
       "      <td>High</td>\n",
       "      <td>False</td>\n",
       "      <td>Yes</td>\n",
       "    </tr>\n",
       "    <tr>\n",
       "      <th>4</th>\n",
       "      <td>Sunny</td>\n",
       "      <td>Cool</td>\n",
       "      <td>Normal</td>\n",
       "      <td>False</td>\n",
       "      <td>Yes</td>\n",
       "    </tr>\n",
       "    <tr>\n",
       "      <th>5</th>\n",
       "      <td>Sunny</td>\n",
       "      <td>Cool</td>\n",
       "      <td>Normal</td>\n",
       "      <td>True</td>\n",
       "      <td>No</td>\n",
       "    </tr>\n",
       "    <tr>\n",
       "      <th>6</th>\n",
       "      <td>Overcast</td>\n",
       "      <td>Cool</td>\n",
       "      <td>Normal</td>\n",
       "      <td>True</td>\n",
       "      <td>Yes</td>\n",
       "    </tr>\n",
       "    <tr>\n",
       "      <th>7</th>\n",
       "      <td>Rainy</td>\n",
       "      <td>Mild</td>\n",
       "      <td>High</td>\n",
       "      <td>False</td>\n",
       "      <td>No</td>\n",
       "    </tr>\n",
       "    <tr>\n",
       "      <th>8</th>\n",
       "      <td>Rainy</td>\n",
       "      <td>Cool</td>\n",
       "      <td>Normal</td>\n",
       "      <td>False</td>\n",
       "      <td>Yes</td>\n",
       "    </tr>\n",
       "    <tr>\n",
       "      <th>9</th>\n",
       "      <td>Sunny</td>\n",
       "      <td>Mild</td>\n",
       "      <td>Normal</td>\n",
       "      <td>False</td>\n",
       "      <td>Yes</td>\n",
       "    </tr>\n",
       "    <tr>\n",
       "      <th>10</th>\n",
       "      <td>Rainy</td>\n",
       "      <td>Mild</td>\n",
       "      <td>Normal</td>\n",
       "      <td>True</td>\n",
       "      <td>Yes</td>\n",
       "    </tr>\n",
       "    <tr>\n",
       "      <th>11</th>\n",
       "      <td>Overcast</td>\n",
       "      <td>Mild</td>\n",
       "      <td>High</td>\n",
       "      <td>True</td>\n",
       "      <td>Yes</td>\n",
       "    </tr>\n",
       "    <tr>\n",
       "      <th>12</th>\n",
       "      <td>Overcast</td>\n",
       "      <td>Hot</td>\n",
       "      <td>Normal</td>\n",
       "      <td>False</td>\n",
       "      <td>Yes</td>\n",
       "    </tr>\n",
       "    <tr>\n",
       "      <th>13</th>\n",
       "      <td>Sunny</td>\n",
       "      <td>Mild</td>\n",
       "      <td>High</td>\n",
       "      <td>True</td>\n",
       "      <td>No</td>\n",
       "    </tr>\n",
       "  </tbody>\n",
       "</table>\n",
       "</div>"
      ],
      "text/plain": [
       "     Outlook Temperature Humidity  Windy PlayGolf\n",
       "0      Rainy         Hot     High  False       No\n",
       "1      Rainy         Hot     High   True       No\n",
       "2   Overcast         Hot     High  False      Yes\n",
       "3      Sunny        Mild     High  False      Yes\n",
       "4      Sunny        Cool   Normal  False      Yes\n",
       "5      Sunny        Cool   Normal   True       No\n",
       "6   Overcast        Cool   Normal   True      Yes\n",
       "7      Rainy        Mild     High  False       No\n",
       "8      Rainy        Cool   Normal  False      Yes\n",
       "9      Sunny        Mild   Normal  False      Yes\n",
       "10     Rainy        Mild   Normal   True      Yes\n",
       "11  Overcast        Mild     High   True      Yes\n",
       "12  Overcast         Hot   Normal  False      Yes\n",
       "13     Sunny        Mild     High   True       No"
      ]
     },
     "execution_count": 6,
     "metadata": {},
     "output_type": "execute_result"
    }
   ],
   "source": [
    "dataGolf = pd.read_csv('playgolf.csv', delimiter=';')\n",
    "dataGolf"
   ]
  },
  {
   "cell_type": "markdown",
   "metadata": {},
   "source": [
    "En aquest cas si ens fixem tenim 5 atributs en total. Un d'ells agafariem com a target, que en aquest cas seria el darrer atribut que veiem a la dreta \"PlayGolf\". Ens interesse saber aquí si es jugarà o no en base a la informació que tenim a la resta d'atributs, aleshores fixem aquest atribut com al nostre target. \n",
    "Pel que fa a la resta d'atributs si ens fixem veurem que els dos primers (\"Outlook\" i \"Temperature\") són atributs categòrics que categoritzen uns events concrets i els dos darrers (\"Humidity\" i \"Windy\") són atributs binaris, ens descriuen si un event passa o no passa. Aleshores aquí he estat dubtant entre els classificadors Bernoulli i Categorical Naive Bayes, perquè tenim exactament la mateixa quantitat d'informació a priori sense fer cap anàlisi tant d'un tipus com del altre. \n",
    "També es important fixar-se en que aquí tenim atributs no numèrics, aleshores això ho hauriem de codificar, farem servir el codificador que hem vist ja a la darrera pràctica i a classe amb el professor com és el OrdinalEncoder (podriem provar-ne d'altres però per manca de temps fem les nostres proves amb aquest). Una cosa que em sembla interessant seria veure la correlació que tenim entre els diferents atributs i per desempatar agafaria aquell model que tingués els dos atributs amb les correlacions més significants, és a dir, si els dos categòrics semblen tenir un impacte major sobre la nostra predicció el que faria seria agafar el Categorical Naive Bayes que potser ens donaria una precissió major sobre les prediccions futures que poguessim fer."
   ]
  },
  {
   "cell_type": "markdown",
   "metadata": {},
   "source": [
    "### zoo:"
   ]
  },
  {
   "cell_type": "code",
   "execution_count": 7,
   "metadata": {},
   "outputs": [
    {
     "data": {
      "text/html": [
       "<div>\n",
       "<style scoped>\n",
       "    .dataframe tbody tr th:only-of-type {\n",
       "        vertical-align: middle;\n",
       "    }\n",
       "\n",
       "    .dataframe tbody tr th {\n",
       "        vertical-align: top;\n",
       "    }\n",
       "\n",
       "    .dataframe thead th {\n",
       "        text-align: right;\n",
       "    }\n",
       "</style>\n",
       "<table border=\"1\" class=\"dataframe\">\n",
       "  <thead>\n",
       "    <tr style=\"text-align: right;\">\n",
       "      <th></th>\n",
       "      <th>animal_name</th>\n",
       "      <th>hair</th>\n",
       "      <th>feathers</th>\n",
       "      <th>eggs</th>\n",
       "      <th>milk</th>\n",
       "      <th>airborne</th>\n",
       "      <th>aquatic</th>\n",
       "      <th>predator</th>\n",
       "      <th>toothed</th>\n",
       "      <th>backbone</th>\n",
       "      <th>breathes</th>\n",
       "      <th>venomous</th>\n",
       "      <th>fins</th>\n",
       "      <th>legs</th>\n",
       "      <th>tail</th>\n",
       "      <th>domestic</th>\n",
       "      <th>catsize</th>\n",
       "      <th>class_type</th>\n",
       "    </tr>\n",
       "  </thead>\n",
       "  <tbody>\n",
       "    <tr>\n",
       "      <th>0</th>\n",
       "      <td>aardvark</td>\n",
       "      <td>1</td>\n",
       "      <td>0</td>\n",
       "      <td>0</td>\n",
       "      <td>1</td>\n",
       "      <td>0</td>\n",
       "      <td>0</td>\n",
       "      <td>1</td>\n",
       "      <td>1</td>\n",
       "      <td>1</td>\n",
       "      <td>1</td>\n",
       "      <td>0</td>\n",
       "      <td>0</td>\n",
       "      <td>4</td>\n",
       "      <td>0</td>\n",
       "      <td>0</td>\n",
       "      <td>1</td>\n",
       "      <td>1</td>\n",
       "    </tr>\n",
       "    <tr>\n",
       "      <th>1</th>\n",
       "      <td>antelope</td>\n",
       "      <td>1</td>\n",
       "      <td>0</td>\n",
       "      <td>0</td>\n",
       "      <td>1</td>\n",
       "      <td>0</td>\n",
       "      <td>0</td>\n",
       "      <td>0</td>\n",
       "      <td>1</td>\n",
       "      <td>1</td>\n",
       "      <td>1</td>\n",
       "      <td>0</td>\n",
       "      <td>0</td>\n",
       "      <td>4</td>\n",
       "      <td>1</td>\n",
       "      <td>0</td>\n",
       "      <td>1</td>\n",
       "      <td>1</td>\n",
       "    </tr>\n",
       "    <tr>\n",
       "      <th>2</th>\n",
       "      <td>bass</td>\n",
       "      <td>0</td>\n",
       "      <td>0</td>\n",
       "      <td>1</td>\n",
       "      <td>0</td>\n",
       "      <td>0</td>\n",
       "      <td>1</td>\n",
       "      <td>1</td>\n",
       "      <td>1</td>\n",
       "      <td>1</td>\n",
       "      <td>0</td>\n",
       "      <td>0</td>\n",
       "      <td>1</td>\n",
       "      <td>0</td>\n",
       "      <td>1</td>\n",
       "      <td>0</td>\n",
       "      <td>0</td>\n",
       "      <td>4</td>\n",
       "    </tr>\n",
       "    <tr>\n",
       "      <th>3</th>\n",
       "      <td>bear</td>\n",
       "      <td>1</td>\n",
       "      <td>0</td>\n",
       "      <td>0</td>\n",
       "      <td>1</td>\n",
       "      <td>0</td>\n",
       "      <td>0</td>\n",
       "      <td>1</td>\n",
       "      <td>1</td>\n",
       "      <td>1</td>\n",
       "      <td>1</td>\n",
       "      <td>0</td>\n",
       "      <td>0</td>\n",
       "      <td>4</td>\n",
       "      <td>0</td>\n",
       "      <td>0</td>\n",
       "      <td>1</td>\n",
       "      <td>1</td>\n",
       "    </tr>\n",
       "    <tr>\n",
       "      <th>4</th>\n",
       "      <td>boar</td>\n",
       "      <td>1</td>\n",
       "      <td>0</td>\n",
       "      <td>0</td>\n",
       "      <td>1</td>\n",
       "      <td>0</td>\n",
       "      <td>0</td>\n",
       "      <td>1</td>\n",
       "      <td>1</td>\n",
       "      <td>1</td>\n",
       "      <td>1</td>\n",
       "      <td>0</td>\n",
       "      <td>0</td>\n",
       "      <td>4</td>\n",
       "      <td>1</td>\n",
       "      <td>0</td>\n",
       "      <td>1</td>\n",
       "      <td>1</td>\n",
       "    </tr>\n",
       "    <tr>\n",
       "      <th>...</th>\n",
       "      <td>...</td>\n",
       "      <td>...</td>\n",
       "      <td>...</td>\n",
       "      <td>...</td>\n",
       "      <td>...</td>\n",
       "      <td>...</td>\n",
       "      <td>...</td>\n",
       "      <td>...</td>\n",
       "      <td>...</td>\n",
       "      <td>...</td>\n",
       "      <td>...</td>\n",
       "      <td>...</td>\n",
       "      <td>...</td>\n",
       "      <td>...</td>\n",
       "      <td>...</td>\n",
       "      <td>...</td>\n",
       "      <td>...</td>\n",
       "      <td>...</td>\n",
       "    </tr>\n",
       "    <tr>\n",
       "      <th>96</th>\n",
       "      <td>wallaby</td>\n",
       "      <td>1</td>\n",
       "      <td>0</td>\n",
       "      <td>0</td>\n",
       "      <td>1</td>\n",
       "      <td>0</td>\n",
       "      <td>0</td>\n",
       "      <td>0</td>\n",
       "      <td>1</td>\n",
       "      <td>1</td>\n",
       "      <td>1</td>\n",
       "      <td>0</td>\n",
       "      <td>0</td>\n",
       "      <td>2</td>\n",
       "      <td>1</td>\n",
       "      <td>0</td>\n",
       "      <td>1</td>\n",
       "      <td>1</td>\n",
       "    </tr>\n",
       "    <tr>\n",
       "      <th>97</th>\n",
       "      <td>wasp</td>\n",
       "      <td>1</td>\n",
       "      <td>0</td>\n",
       "      <td>1</td>\n",
       "      <td>0</td>\n",
       "      <td>1</td>\n",
       "      <td>0</td>\n",
       "      <td>0</td>\n",
       "      <td>0</td>\n",
       "      <td>0</td>\n",
       "      <td>1</td>\n",
       "      <td>1</td>\n",
       "      <td>0</td>\n",
       "      <td>6</td>\n",
       "      <td>0</td>\n",
       "      <td>0</td>\n",
       "      <td>0</td>\n",
       "      <td>6</td>\n",
       "    </tr>\n",
       "    <tr>\n",
       "      <th>98</th>\n",
       "      <td>wolf</td>\n",
       "      <td>1</td>\n",
       "      <td>0</td>\n",
       "      <td>0</td>\n",
       "      <td>1</td>\n",
       "      <td>0</td>\n",
       "      <td>0</td>\n",
       "      <td>1</td>\n",
       "      <td>1</td>\n",
       "      <td>1</td>\n",
       "      <td>1</td>\n",
       "      <td>0</td>\n",
       "      <td>0</td>\n",
       "      <td>4</td>\n",
       "      <td>1</td>\n",
       "      <td>0</td>\n",
       "      <td>1</td>\n",
       "      <td>1</td>\n",
       "    </tr>\n",
       "    <tr>\n",
       "      <th>99</th>\n",
       "      <td>worm</td>\n",
       "      <td>0</td>\n",
       "      <td>0</td>\n",
       "      <td>1</td>\n",
       "      <td>0</td>\n",
       "      <td>0</td>\n",
       "      <td>0</td>\n",
       "      <td>0</td>\n",
       "      <td>0</td>\n",
       "      <td>0</td>\n",
       "      <td>1</td>\n",
       "      <td>0</td>\n",
       "      <td>0</td>\n",
       "      <td>0</td>\n",
       "      <td>0</td>\n",
       "      <td>0</td>\n",
       "      <td>0</td>\n",
       "      <td>7</td>\n",
       "    </tr>\n",
       "    <tr>\n",
       "      <th>100</th>\n",
       "      <td>wren</td>\n",
       "      <td>0</td>\n",
       "      <td>1</td>\n",
       "      <td>1</td>\n",
       "      <td>0</td>\n",
       "      <td>1</td>\n",
       "      <td>0</td>\n",
       "      <td>0</td>\n",
       "      <td>0</td>\n",
       "      <td>1</td>\n",
       "      <td>1</td>\n",
       "      <td>0</td>\n",
       "      <td>0</td>\n",
       "      <td>2</td>\n",
       "      <td>1</td>\n",
       "      <td>0</td>\n",
       "      <td>0</td>\n",
       "      <td>2</td>\n",
       "    </tr>\n",
       "  </tbody>\n",
       "</table>\n",
       "<p>101 rows × 18 columns</p>\n",
       "</div>"
      ],
      "text/plain": [
       "    animal_name  hair  feathers  eggs  milk  airborne  aquatic  predator  \\\n",
       "0      aardvark     1         0     0     1         0        0         1   \n",
       "1      antelope     1         0     0     1         0        0         0   \n",
       "2          bass     0         0     1     0         0        1         1   \n",
       "3          bear     1         0     0     1         0        0         1   \n",
       "4          boar     1         0     0     1         0        0         1   \n",
       "..          ...   ...       ...   ...   ...       ...      ...       ...   \n",
       "96      wallaby     1         0     0     1         0        0         0   \n",
       "97         wasp     1         0     1     0         1        0         0   \n",
       "98         wolf     1         0     0     1         0        0         1   \n",
       "99         worm     0         0     1     0         0        0         0   \n",
       "100        wren     0         1     1     0         1        0         0   \n",
       "\n",
       "     toothed  backbone  breathes  venomous  fins  legs  tail  domestic  \\\n",
       "0          1         1         1         0     0     4     0         0   \n",
       "1          1         1         1         0     0     4     1         0   \n",
       "2          1         1         0         0     1     0     1         0   \n",
       "3          1         1         1         0     0     4     0         0   \n",
       "4          1         1         1         0     0     4     1         0   \n",
       "..       ...       ...       ...       ...   ...   ...   ...       ...   \n",
       "96         1         1         1         0     0     2     1         0   \n",
       "97         0         0         1         1     0     6     0         0   \n",
       "98         1         1         1         0     0     4     1         0   \n",
       "99         0         0         1         0     0     0     0         0   \n",
       "100        0         1         1         0     0     2     1         0   \n",
       "\n",
       "     catsize  class_type  \n",
       "0          1           1  \n",
       "1          1           1  \n",
       "2          0           4  \n",
       "3          1           1  \n",
       "4          1           1  \n",
       "..       ...         ...  \n",
       "96         1           1  \n",
       "97         0           6  \n",
       "98         1           1  \n",
       "99         0           7  \n",
       "100        0           2  \n",
       "\n",
       "[101 rows x 18 columns]"
      ]
     },
     "execution_count": 7,
     "metadata": {},
     "output_type": "execute_result"
    }
   ],
   "source": [
    "dataZoo = pd.read_csv('zoo_animal.csv', delimiter=',')\n",
    "dataZoo"
   ]
  },
  {
   "cell_type": "markdown",
   "metadata": {},
   "source": [
    "Aquí el que veiem és un gran nombre d'atributs que ens descriuen un seguit de característiques sobre diferents animals, molts d'ells són de tipus binari perquè ens diuen si aquella característica simplement es dona o no en un animal concret com per exemple que aquest sigui aquàtic, que sigui vertebrat, que respiri, etc. Aleshores per la quantitat d'informació que ens donen aquests atributs per ser binaris ens llançariem a treballar amb el Bernoulli Naive Bayes.\n",
    "Aquí el que ens interesse es classificar el animal en diferents classes (del 1 al 7), no ens importe aquí el nom del animal o de quina espècie aquest es pugui tractar, ens interessa el grup al que pugui pertanyer, això és el que intentarem predir. Aleshores el nostra tribut target serà el \"class_type\".\n",
    "Si pensem una mica i mirem diferents examples al nostre dataset veurem que un dels atributs que més informació aporta sobre un animal és concretament el nombre de potes que aquest tingui, i aquest atribut (\"legs\") és de tipus numèric discret a diferència de tota la resta que són de tipus binari, però en realitat si ho pensem també té una funció categòrica perquè moltes vegades ens donarà fites rellevants per poder classificar-lo i tenim un nombre bastant acotat de potes que un animal pugui tenir, llevat d'algunes excepcions com alguns insectes/artròpods o quilòpods que per ser \"outliers coneguts\" de seguida sabrem de quin animal es tracta. \n",
    "Aleshores potser que aquest atribut tingui més pes del que a priori poguem pensar per classificar-lo en una classe o una altra, però així i tot per la gran quantitat de informació que ens donen tota la resta que són binaris en aquest cas si haguéssim d'escollir agafariem el Bernoulli Naive Bayes, tot i que si tenim una segona oportunitat podriem mirar a veure que passa amb el Categorical Naive Bayes també."
   ]
  },
  {
   "cell_type": "markdown",
   "metadata": {},
   "source": [
    "### heart-disease-uci:"
   ]
  },
  {
   "cell_type": "code",
   "execution_count": 8,
   "metadata": {},
   "outputs": [
    {
     "data": {
      "text/html": [
       "<div>\n",
       "<style scoped>\n",
       "    .dataframe tbody tr th:only-of-type {\n",
       "        vertical-align: middle;\n",
       "    }\n",
       "\n",
       "    .dataframe tbody tr th {\n",
       "        vertical-align: top;\n",
       "    }\n",
       "\n",
       "    .dataframe thead th {\n",
       "        text-align: right;\n",
       "    }\n",
       "</style>\n",
       "<table border=\"1\" class=\"dataframe\">\n",
       "  <thead>\n",
       "    <tr style=\"text-align: right;\">\n",
       "      <th></th>\n",
       "      <th>age</th>\n",
       "      <th>sex</th>\n",
       "      <th>cp</th>\n",
       "      <th>trestbps</th>\n",
       "      <th>chol</th>\n",
       "      <th>fbs</th>\n",
       "      <th>restecg</th>\n",
       "      <th>thalach</th>\n",
       "      <th>exang</th>\n",
       "      <th>oldpeak</th>\n",
       "      <th>slope</th>\n",
       "      <th>ca</th>\n",
       "      <th>thal</th>\n",
       "      <th>target</th>\n",
       "    </tr>\n",
       "  </thead>\n",
       "  <tbody>\n",
       "    <tr>\n",
       "      <th>0</th>\n",
       "      <td>63</td>\n",
       "      <td>1</td>\n",
       "      <td>3</td>\n",
       "      <td>145</td>\n",
       "      <td>233</td>\n",
       "      <td>1</td>\n",
       "      <td>0</td>\n",
       "      <td>150</td>\n",
       "      <td>0</td>\n",
       "      <td>2.3</td>\n",
       "      <td>0</td>\n",
       "      <td>0</td>\n",
       "      <td>1</td>\n",
       "      <td>1</td>\n",
       "    </tr>\n",
       "    <tr>\n",
       "      <th>1</th>\n",
       "      <td>37</td>\n",
       "      <td>1</td>\n",
       "      <td>2</td>\n",
       "      <td>130</td>\n",
       "      <td>250</td>\n",
       "      <td>0</td>\n",
       "      <td>1</td>\n",
       "      <td>187</td>\n",
       "      <td>0</td>\n",
       "      <td>3.5</td>\n",
       "      <td>0</td>\n",
       "      <td>0</td>\n",
       "      <td>2</td>\n",
       "      <td>1</td>\n",
       "    </tr>\n",
       "    <tr>\n",
       "      <th>2</th>\n",
       "      <td>41</td>\n",
       "      <td>0</td>\n",
       "      <td>1</td>\n",
       "      <td>130</td>\n",
       "      <td>204</td>\n",
       "      <td>0</td>\n",
       "      <td>0</td>\n",
       "      <td>172</td>\n",
       "      <td>0</td>\n",
       "      <td>1.4</td>\n",
       "      <td>2</td>\n",
       "      <td>0</td>\n",
       "      <td>2</td>\n",
       "      <td>1</td>\n",
       "    </tr>\n",
       "    <tr>\n",
       "      <th>3</th>\n",
       "      <td>56</td>\n",
       "      <td>1</td>\n",
       "      <td>1</td>\n",
       "      <td>120</td>\n",
       "      <td>236</td>\n",
       "      <td>0</td>\n",
       "      <td>1</td>\n",
       "      <td>178</td>\n",
       "      <td>0</td>\n",
       "      <td>0.8</td>\n",
       "      <td>2</td>\n",
       "      <td>0</td>\n",
       "      <td>2</td>\n",
       "      <td>1</td>\n",
       "    </tr>\n",
       "    <tr>\n",
       "      <th>4</th>\n",
       "      <td>57</td>\n",
       "      <td>0</td>\n",
       "      <td>0</td>\n",
       "      <td>120</td>\n",
       "      <td>354</td>\n",
       "      <td>0</td>\n",
       "      <td>1</td>\n",
       "      <td>163</td>\n",
       "      <td>1</td>\n",
       "      <td>0.6</td>\n",
       "      <td>2</td>\n",
       "      <td>0</td>\n",
       "      <td>2</td>\n",
       "      <td>1</td>\n",
       "    </tr>\n",
       "    <tr>\n",
       "      <th>...</th>\n",
       "      <td>...</td>\n",
       "      <td>...</td>\n",
       "      <td>...</td>\n",
       "      <td>...</td>\n",
       "      <td>...</td>\n",
       "      <td>...</td>\n",
       "      <td>...</td>\n",
       "      <td>...</td>\n",
       "      <td>...</td>\n",
       "      <td>...</td>\n",
       "      <td>...</td>\n",
       "      <td>...</td>\n",
       "      <td>...</td>\n",
       "      <td>...</td>\n",
       "    </tr>\n",
       "    <tr>\n",
       "      <th>298</th>\n",
       "      <td>57</td>\n",
       "      <td>0</td>\n",
       "      <td>0</td>\n",
       "      <td>140</td>\n",
       "      <td>241</td>\n",
       "      <td>0</td>\n",
       "      <td>1</td>\n",
       "      <td>123</td>\n",
       "      <td>1</td>\n",
       "      <td>0.2</td>\n",
       "      <td>1</td>\n",
       "      <td>0</td>\n",
       "      <td>3</td>\n",
       "      <td>0</td>\n",
       "    </tr>\n",
       "    <tr>\n",
       "      <th>299</th>\n",
       "      <td>45</td>\n",
       "      <td>1</td>\n",
       "      <td>3</td>\n",
       "      <td>110</td>\n",
       "      <td>264</td>\n",
       "      <td>0</td>\n",
       "      <td>1</td>\n",
       "      <td>132</td>\n",
       "      <td>0</td>\n",
       "      <td>1.2</td>\n",
       "      <td>1</td>\n",
       "      <td>0</td>\n",
       "      <td>3</td>\n",
       "      <td>0</td>\n",
       "    </tr>\n",
       "    <tr>\n",
       "      <th>300</th>\n",
       "      <td>68</td>\n",
       "      <td>1</td>\n",
       "      <td>0</td>\n",
       "      <td>144</td>\n",
       "      <td>193</td>\n",
       "      <td>1</td>\n",
       "      <td>1</td>\n",
       "      <td>141</td>\n",
       "      <td>0</td>\n",
       "      <td>3.4</td>\n",
       "      <td>1</td>\n",
       "      <td>2</td>\n",
       "      <td>3</td>\n",
       "      <td>0</td>\n",
       "    </tr>\n",
       "    <tr>\n",
       "      <th>301</th>\n",
       "      <td>57</td>\n",
       "      <td>1</td>\n",
       "      <td>0</td>\n",
       "      <td>130</td>\n",
       "      <td>131</td>\n",
       "      <td>0</td>\n",
       "      <td>1</td>\n",
       "      <td>115</td>\n",
       "      <td>1</td>\n",
       "      <td>1.2</td>\n",
       "      <td>1</td>\n",
       "      <td>1</td>\n",
       "      <td>3</td>\n",
       "      <td>0</td>\n",
       "    </tr>\n",
       "    <tr>\n",
       "      <th>302</th>\n",
       "      <td>57</td>\n",
       "      <td>0</td>\n",
       "      <td>1</td>\n",
       "      <td>130</td>\n",
       "      <td>236</td>\n",
       "      <td>0</td>\n",
       "      <td>0</td>\n",
       "      <td>174</td>\n",
       "      <td>0</td>\n",
       "      <td>0.0</td>\n",
       "      <td>1</td>\n",
       "      <td>1</td>\n",
       "      <td>2</td>\n",
       "      <td>0</td>\n",
       "    </tr>\n",
       "  </tbody>\n",
       "</table>\n",
       "<p>303 rows × 14 columns</p>\n",
       "</div>"
      ],
      "text/plain": [
       "     age  sex  cp  trestbps  chol  fbs  restecg  thalach  exang  oldpeak  \\\n",
       "0     63    1   3       145   233    1        0      150      0      2.3   \n",
       "1     37    1   2       130   250    0        1      187      0      3.5   \n",
       "2     41    0   1       130   204    0        0      172      0      1.4   \n",
       "3     56    1   1       120   236    0        1      178      0      0.8   \n",
       "4     57    0   0       120   354    0        1      163      1      0.6   \n",
       "..   ...  ...  ..       ...   ...  ...      ...      ...    ...      ...   \n",
       "298   57    0   0       140   241    0        1      123      1      0.2   \n",
       "299   45    1   3       110   264    0        1      132      0      1.2   \n",
       "300   68    1   0       144   193    1        1      141      0      3.4   \n",
       "301   57    1   0       130   131    0        1      115      1      1.2   \n",
       "302   57    0   1       130   236    0        0      174      0      0.0   \n",
       "\n",
       "     slope  ca  thal  target  \n",
       "0        0   0     1       1  \n",
       "1        0   0     2       1  \n",
       "2        2   0     2       1  \n",
       "3        2   0     2       1  \n",
       "4        2   0     2       1  \n",
       "..     ...  ..   ...     ...  \n",
       "298      1   0     3       0  \n",
       "299      1   0     3       0  \n",
       "300      1   2     3       0  \n",
       "301      1   1     3       0  \n",
       "302      1   1     2       0  \n",
       "\n",
       "[303 rows x 14 columns]"
      ]
     },
     "execution_count": 8,
     "metadata": {},
     "output_type": "execute_result"
    }
   ],
   "source": [
    "dataHDisease = pd.read_csv('heart.csv')\n",
    "dataHDisease"
   ]
  },
  {
   "cell_type": "markdown",
   "metadata": {},
   "source": [
    "Aquí veiem un poti-poti d'atributs de tot tipus, veiem atributs binaris, categòrics, numèrics discrets, altres atributs numèrics continus... Aquí agafaria un a la babalà, l'únic que potser podria descartar seria el classificador de tipus Multinomial perquè crec que no ens aportaria gaire informació rellevant, però pel que fa a la resta no sabria ben bé en aquest cas en que basar-me per escollir un o un altre. Aquí veiem 4 atributs binaris, 3 categòrics, 1 numèric continu i 4 numèrics discrets. Potser agafaria el Categorical Naive Bayes o també provaria amb el Bernoulli, basant-me en que la majoria dels atributs responen a un d'aquests dos classificadors..."
   ]
  },
  {
   "cell_type": "markdown",
   "metadata": {},
   "source": [
    "### 20newsgroups"
   ]
  },
  {
   "cell_type": "code",
   "execution_count": 9,
   "metadata": {},
   "outputs": [
    {
     "name": "stdout",
     "output_type": "stream",
     "text": [
      "From: george@ccmail.larc.nasa.gov (George M. Brown)\n",
      "Subject: QC/MSC code to view/save images\n",
      "Organization: Client Specific Systems, Inc.\n",
      "Lines: 12\n",
      "NNTP-Posting-Host: thrasher.larc.nasa.gov\n",
      "\n",
      "Dear Binary Newsers,\n",
      "\n",
      "I am looking for Quick C or Microsoft C code for image decoding from file for\n",
      "VGA viewing and saving images from/to GIF, TIFF, PCX, or JPEG format. I have\n",
      "scoured the Internet, but its like trying to find a Dr. Seuss spell checker \n",
      "TSR. It must be out there, and there's no need to reinvent the wheel.\n",
      "\n",
      "Thanx in advance.\n",
      "\n",
      "//////////////\n",
      "\n",
      " The Internet is like a Black Hole....\n",
      "\n",
      "0\n"
     ]
    }
   ],
   "source": [
    "print(train.data[19])\n",
    "print(train.target[19])"
   ]
  },
  {
   "cell_type": "code",
   "execution_count": 10,
   "metadata": {},
   "outputs": [
    {
     "name": "stdout",
     "output_type": "stream",
     "text": [
      "  (0, 35183)\t0.0665790827935455\n",
      "  (0, 35136)\t0.05358958572209765\n",
      "  (0, 35117)\t0.08159803733249356\n",
      "  (0, 34901)\t0.04959311871385607\n",
      "  (0, 34870)\t0.10139122865221976\n",
      "  (0, 34688)\t0.11160127553180949\n",
      "  (0, 34678)\t0.0938667753871381\n",
      "  (0, 34604)\t0.08159803733249356\n",
      "  (0, 34445)\t0.027568293375166097\n",
      "  (0, 34398)\t0.034573409386513806\n",
      "  (0, 34302)\t0.060501235311470884\n",
      "  (0, 33990)\t0.07272800329036466\n",
      "  (0, 33316)\t0.058680337720887495\n",
      "  (0, 32673)\t0.04258816456957504\n",
      "  (0, 32381)\t0.08605062973881727\n",
      "  (0, 32244)\t0.09912059160470917\n",
      "  (0, 32091)\t0.06323663474836892\n",
      "  (0, 32015)\t0.048203152610054784\n",
      "  (0, 31806)\t0.03734341574779688\n",
      "  (0, 31756)\t0.03295583816721851\n",
      "  (0, 31753)\t0.04723937857426606\n",
      "  (0, 31737)\t0.027932423881319075\n",
      "  (0, 31670)\t0.035109104203284044\n",
      "  (0, 31646)\t0.09335918184058065\n",
      "  (0, 31470)\t0.08097113489304031\n",
      "  :\t:\n",
      "  (2152, 7370)\t0.05885361295742242\n",
      "  (2152, 7079)\t0.0385948702297478\n",
      "  (2152, 6521)\t0.029171295362131814\n",
      "  (2152, 6412)\t0.015996099192919114\n",
      "  (2152, 6403)\t0.0610942417289845\n",
      "  (2152, 6233)\t0.06269821108557558\n",
      "  (2152, 5823)\t0.039114246297922727\n",
      "  (2152, 5643)\t0.018214029818241606\n",
      "  (2152, 5627)\t0.0197032283428977\n",
      "  (2152, 5063)\t0.0766697199449131\n",
      "  (2152, 5020)\t0.04146939221988297\n",
      "  (2152, 4967)\t0.05278897199988417\n",
      "  (2152, 4962)\t0.10253996138234754\n",
      "  (2152, 4112)\t0.08289315847994864\n",
      "  (2152, 4035)\t0.0202127365106635\n",
      "  (2152, 3211)\t0.0873292989749631\n",
      "  (2152, 2566)\t0.05845571933898643\n",
      "  (2152, 2040)\t0.05926652492916025\n",
      "  (2152, 1934)\t0.08994999429741078\n",
      "  (2152, 1905)\t0.04452836906812033\n",
      "  (2152, 1086)\t0.06528450965965157\n",
      "  (2152, 1085)\t0.06328975345243688\n",
      "  (2152, 1001)\t0.0873292989749631\n",
      "  (2152, 774)\t0.0873292989749631\n",
      "  (2152, 498)\t0.0873292989749631\n"
     ]
    }
   ],
   "source": [
    "mi = TfidfVectorizer()\n",
    "mi.fit(train.data)\n",
    "t = mi.transform(train.data)\n",
    "print(t)"
   ]
  },
  {
   "cell_type": "markdown",
   "metadata": {},
   "source": [
    "Aquí el que fem és bàsicament una classificació de text, al nostre conjunt X (train.data) tenim els diferents exemples de text que després vectoritzarem amb TfidfVectorizer, després al conjunt Y (train.target) tenim la classificació per cadascún dels diferents documents. El que fa aquest codificador (TfidfVectorizer) és bàsicament convertir un seguit de documents a un conjunt de features TF-IDF. És a dir, per cada document aplica al algorisme de freqüència inversa de document que hem vist en altres assignatures per veure la rellevància que tenen les diferents paraules que surten a aquell document determinat. Aquest factor de ponderació ens ajuda després per classificar un document concret en una categoria determinada donades les paraules més rellevants que surten en ell. Hi hauràn algunes paraules concretes que ens aportaràn més informació sobre el nostre document de cara a la seva posterior classificació. Per exemple, en un document concret la paraula Python o la paraula compilador, parser, Debian, semiconductor per exemple ens donarà molta informació del tema o de la categoria de la que aquell document segurament tracti. Segons les paraules que ens sortiràn podrem determinar si estem parlant de llenguatges de programació interpretats, del procés de generació de codi màquina, de sistemes Unix, d'aspectes hardware... Aquelles paraules més especifiques com semiconductor segurament tindràn una rellevància molt elevada perquè fins i tot parlant de tecnologia amb temes de programació és realment inusual veure alguna referència a semiconductors per la seva naturalesa més tècnica, aleshores aquesta paraula ens aproparia més a classificar el document a \"aspectes hardware\" per exemple. Paraules més transversals com per exemple Java o Python ens ajudarien a classificar el document com \"tecnològic\" si considerem un conjunt de paraules on tinguem també el nom \"Merkel\" (que segurament tracti de política o de noticies) però realment a dintre d'aquesta classificació tecnològica ambdos noms són bastant usuals en molts camps de la tecnologia, aleshores ens serviria en primera instància però potser la seva rellevància disminuiria en el moment de voler especialitzar encara més la classificació per determinar la categoria d'aquell document, per diferenciar si s'esta parlant de programació web o científica per exemple.\n",
    "Aleshores per la naturalesa d'aquest problema no dubtaria en fer servir el classificador Multinomial Naive Bayes. "
   ]
  },
  {
   "cell_type": "markdown",
   "metadata": {},
   "source": [
    "#### Pregunta 2: Fés una taula mostrant el accuracy de cada model per cada un dels datasets. "
   ]
  },
  {
   "cell_type": "code",
   "execution_count": 11,
   "metadata": {},
   "outputs": [
    {
     "data": {
      "text/html": [
       "<div>\n",
       "<style scoped>\n",
       "    .dataframe tbody tr th:only-of-type {\n",
       "        vertical-align: middle;\n",
       "    }\n",
       "\n",
       "    .dataframe tbody tr th {\n",
       "        vertical-align: top;\n",
       "    }\n",
       "\n",
       "    .dataframe thead th {\n",
       "        text-align: right;\n",
       "    }\n",
       "</style>\n",
       "<table border=\"1\" class=\"dataframe\">\n",
       "  <thead>\n",
       "    <tr style=\"text-align: right;\">\n",
       "      <th></th>\n",
       "      <th>GaussianNB()</th>\n",
       "      <th>MultinomialNB()</th>\n",
       "      <th>BernoulliNB()</th>\n",
       "      <th>CategoricalNB(alpha=1e-10)</th>\n",
       "      <th>CategoricalNB(alpha=1)</th>\n",
       "    </tr>\n",
       "  </thead>\n",
       "  <tbody>\n",
       "    <tr>\n",
       "      <th>iris</th>\n",
       "      <td>0.9530</td>\n",
       "      <td>0.9530</td>\n",
       "      <td>0.3330</td>\n",
       "      <td>0.933</td>\n",
       "      <td>0.9270</td>\n",
       "    </tr>\n",
       "    <tr>\n",
       "      <th>playgolf</th>\n",
       "      <td>0.6330</td>\n",
       "      <td>0.5000</td>\n",
       "      <td>0.6670</td>\n",
       "      <td>0.700</td>\n",
       "      <td>0.5670</td>\n",
       "    </tr>\n",
       "    <tr>\n",
       "      <th>zoo</th>\n",
       "      <td>0.9510</td>\n",
       "      <td>0.8910</td>\n",
       "      <td>0.9400</td>\n",
       "      <td>0.950</td>\n",
       "      <td>0.9400</td>\n",
       "    </tr>\n",
       "    <tr>\n",
       "      <th>heart-disease-uci</th>\n",
       "      <td>0.8420</td>\n",
       "      <td>0.7520</td>\n",
       "      <td>0.8320</td>\n",
       "      <td>0.954</td>\n",
       "      <td>0.9110</td>\n",
       "    </tr>\n",
       "    <tr>\n",
       "      <th>20newsgroups</th>\n",
       "      <td>0.9250</td>\n",
       "      <td>0.8460</td>\n",
       "      <td>0.8060</td>\n",
       "      <td>0.278</td>\n",
       "      <td>0.2780</td>\n",
       "    </tr>\n",
       "    <tr>\n",
       "      <th>mitjana</th>\n",
       "      <td>0.8608</td>\n",
       "      <td>0.7884</td>\n",
       "      <td>0.7156</td>\n",
       "      <td>0.763</td>\n",
       "      <td>0.7246</td>\n",
       "    </tr>\n",
       "  </tbody>\n",
       "</table>\n",
       "</div>"
      ],
      "text/plain": [
       "                   GaussianNB()  MultinomialNB()  BernoulliNB()  \\\n",
       "iris                     0.9530           0.9530         0.3330   \n",
       "playgolf                 0.6330           0.5000         0.6670   \n",
       "zoo                      0.9510           0.8910         0.9400   \n",
       "heart-disease-uci        0.8420           0.7520         0.8320   \n",
       "20newsgroups             0.9250           0.8460         0.8060   \n",
       "mitjana                  0.8608           0.7884         0.7156   \n",
       "\n",
       "                   CategoricalNB(alpha=1e-10)  CategoricalNB(alpha=1)  \n",
       "iris                                    0.933                  0.9270  \n",
       "playgolf                                0.700                  0.5670  \n",
       "zoo                                     0.950                  0.9400  \n",
       "heart-disease-uci                       0.954                  0.9110  \n",
       "20newsgroups                            0.278                  0.2780  \n",
       "mitjana                                 0.763                  0.7246  "
      ]
     },
     "execution_count": 11,
     "metadata": {},
     "output_type": "execute_result"
    }
   ],
   "source": [
    "taula_ac_models = pd.DataFrame(L)\n",
    "taula_ac_models.insert(column=\"mitjana\",value=taula_ac_models.mean(axis=1), loc=len(L))\n",
    "e=0\n",
    "for i in models:\n",
    "    taula_ac_models.rename({e:str(i)}, axis='index', inplace=True)\n",
    "    e+=1\n",
    "taula_ac_models.T"
   ]
  },
  {
   "cell_type": "markdown",
   "metadata": {},
   "source": [
    "#### Pregunta 3: Mostra els resultats gràficament. Quin tipus de Bayes funciona millor per quin dataset. De mitjana, quin ho fa millor?"
   ]
  },
  {
   "cell_type": "code",
   "execution_count": 12,
   "metadata": {},
   "outputs": [
    {
     "data": {
      "text/plain": [
       "[Text(0.5, 0, 'accuracy'),\n",
       " (0.3, 1.0),\n",
       " Text(0.5, 1.0, 'Classificadors bayesians per iris')]"
      ]
     },
     "execution_count": 12,
     "metadata": {},
     "output_type": "execute_result"
    },
    {
     "data": {
      "image/png": "[encoded data removed]",
      "text/plain": [
       "<Figure size 720x720 with 1 Axes>"
      ]
     },
     "metadata": {
      "needs_background": "light"
     },
     "output_type": "display_data"
    }
   ],
   "source": [
    "import seaborn as sns\n",
    "import matplotlib.pyplot as plt\n",
    "plt.figure(figsize=(10,10))\n",
    "ax = sns.barplot(x='iris', y=['GaussianNB()', 'MultinomialNB()', 'BernoulliNB()', 'CategoricalNB(alpha=1e-10)', 'CategoricalNB(alpha=1)'],data=taula_ac_models,palette=\"Blues_d\")\n",
    "ax.set(xlabel='accuracy', xlim=(0.3,1), title=\"Classificadors bayesians per iris\")"
   ]
  },
  {
   "cell_type": "markdown",
   "metadata": {},
   "source": [
    "Aquí els dos millors (i empatats) són el GaussianNB i el MultinomialNB. Aquí alguns resultats m'han sorprès i altres no gaire. El que m'ha sorprés bastant és veure que un tipus de classificador bayesià com és el Multinomial, més especialitzat en ocurrències, tingui un valor tan alt a la mateixa alçada que el GaussianNB que és el més conegut quan tenim un seguit d'atributs numèrics continus. M'ho esperava del GaussianNB i no m'ha sorprès gaire al veure els resultats però és molt interessant el que hem obtingut amb el MultinomialNB. Tampoc esperava uns resultats tant positius pels CategoricalNB (tant per Lidstone com per Laplace) i el que havia descartat des d'un principi era el BernoulliNB per treballar amb dades binaries junt amb el MultinomialNB que ja veiem el resultat fora de sèrie que ens ha donat. "
   ]
  },
  {
   "cell_type": "code",
   "execution_count": 53,
   "metadata": {},
   "outputs": [
    {
     "data": {
      "text/plain": [
       "[Text(0.5, 0, 'accuracy'),\n",
       " (0.3, 1.0),\n",
       " Text(0.5, 1.0, 'Classificadors bayesians per playgolf')]"
      ]
     },
     "execution_count": 53,
     "metadata": {},
     "output_type": "execute_result"
    },
    {
     "data": {
      "image/png": "[encoded data removed]",
      "text/plain": [
       "<Figure size 720x720 with 1 Axes>"
      ]
     },
     "metadata": {
      "needs_background": "light"
     },
     "output_type": "display_data"
    }
   ],
   "source": [
    "plt.figure(figsize=(10,10))\n",
    "ax = sns.barplot(x='playgolf', y=['GaussianNB()', 'MultinomialNB()', 'BernoulliNB()', 'CategoricalNB(alpha=1e-10)', 'CategoricalNB(alpha=1)'],data=taula_ac_models,palette=\"Blues_d\")\n",
    "ax.set(xlabel='accuracy', xlim=(0.3,1), title=\"Classificadors bayesians per playgolf\")"
   ]
  },
  {
   "cell_type": "markdown",
   "metadata": {},
   "source": [
    "Aquí tots els models retornen un accuracy bastant mediocre, veiem que els millors són el CategoricalNB amb suavització Lidstone seguit del BernoulliNB amb accuracy 70-67% respectivament. Es correspòn amb el que haviem dit abans tot i que el accuracy no és gaire interessant, podriem provar amb un altre tipus de codificació per veure si passa el mateix o si ens millora els resultats per codificar les dades d'una manera més adient al problema. "
   ]
  },
  {
   "cell_type": "code",
   "execution_count": 54,
   "metadata": {},
   "outputs": [
    {
     "data": {
      "text/plain": [
       "[Text(0.5, 0, 'accuracy'),\n",
       " (0.8, 1.0),\n",
       " Text(0.5, 1.0, 'Classificadors bayesians per zoo')]"
      ]
     },
     "execution_count": 54,
     "metadata": {},
     "output_type": "execute_result"
    },
    {
     "data": {
      "image/png": "[encoded data removed]",
      "text/plain": [
       "<Figure size 720x720 with 1 Axes>"
      ]
     },
     "metadata": {
      "needs_background": "light"
     },
     "output_type": "display_data"
    }
   ],
   "source": [
    "plt.figure(figsize=(10,10))\n",
    "ax = sns.barplot(x='zoo', y=['GaussianNB()', 'MultinomialNB()', 'BernoulliNB()', 'CategoricalNB(alpha=1e-10)', 'CategoricalNB(alpha=1)'],data=taula_ac_models,palette=\"Blues_d\")\n",
    "ax.set(xlabel='accuracy', xlim=(0.8,1), title=\"Classificadors bayesians per zoo\")"
   ]
  },
  {
   "cell_type": "markdown",
   "metadata": {},
   "source": [
    "Aquí els dos models que ens donen els millors resultats són tant el GaussianNB com el CategoricalNB amb suavització Lidstone. Potser em sorprén tenir el accuracy que ens dona el GaussianNB perquè la gran majoria dels atributs són binaris amb excepció d'un categòric i no esperava veure el GaussianNB tan elevat perquè està més especialitzat amb atributs numèrics continus. Aleshores pensava que aquí el que ens donaria millors resultats seria el model BernoulliNB però sembla que el GaussianNB fa un molt bon treball amb aquest dataset tot i que inesperat. "
   ]
  },
  {
   "cell_type": "code",
   "execution_count": 52,
   "metadata": {},
   "outputs": [
    {
     "data": {
      "text/plain": [
       "[Text(0.5, 0, 'accuracy'),\n",
       " (0.6, 1.0),\n",
       " Text(0.5, 1.0, 'Classificadors bayesians per heart-disease-uci')]"
      ]
     },
     "execution_count": 52,
     "metadata": {},
     "output_type": "execute_result"
    },
    {
     "data": {
      "image/png": "[encoded data removed]",
      "text/plain": [
       "<Figure size 720x720 with 1 Axes>"
      ]
     },
     "metadata": {
      "needs_background": "light"
     },
     "output_type": "display_data"
    }
   ],
   "source": [
    "plt.figure(figsize=(10,10))\n",
    "ax = sns.barplot(x='heart-disease-uci', y=['GaussianNB()', 'MultinomialNB()', 'BernoulliNB()', 'CategoricalNB(alpha=1e-10)', 'CategoricalNB(alpha=1)'],data=taula_ac_models,palette=\"Blues_d\")\n",
    "ax.set(xlabel='accuracy', xlim=(0.6,1), title=\"Classificadors bayesians per heart-disease-uci\")"
   ]
  },
  {
   "cell_type": "markdown",
   "metadata": {},
   "source": [
    "Aquí el model que ens retorna uns resultats més alts amb diferència és el CategoricalNB fent servir una suavització Lidstone (alpha petita). "
   ]
  },
  {
   "cell_type": "code",
   "execution_count": 50,
   "metadata": {},
   "outputs": [
    {
     "data": {
      "text/plain": [
       "[Text(0.5, 0, 'accuracy'),\n",
       " (0.2, 1.0),\n",
       " Text(0.5, 1.0, 'Classificadors bayesians per 20newsgroups')]"
      ]
     },
     "execution_count": 50,
     "metadata": {},
     "output_type": "execute_result"
    },
    {
     "data": {
      "image/png": "[encoded data removed]",
      "text/plain": [
       "<Figure size 720x720 with 1 Axes>"
      ]
     },
     "metadata": {
      "needs_background": "light"
     },
     "output_type": "display_data"
    }
   ],
   "source": [
    "plt.figure(figsize=(10,10))\n",
    "ax = sns.barplot(x='20newsgroups', y=['GaussianNB()', 'MultinomialNB()', 'BernoulliNB()', 'CategoricalNB(alpha=1e-10)', 'CategoricalNB(alpha=1)'],data=taula_ac_models,palette=\"Blues_d\")\n",
    "ax.set(xlabel='accuracy', xlim=(0.2,1), title=\"Classificadors bayesians per 20newsgroups\")"
   ]
  },
  {
   "cell_type": "markdown",
   "metadata": {},
   "source": [
    "Pel cas del dataset de text sorprenentment veiem que el MultinomialNB no és el millor classificador en termes d'accuracy sinó el GaussianNB. Realment si ho penso una mica potser te sentit perquè la codificació que he fet servir amb la freqüència inversa de documents on calcula la rellevància diguem per cada paraula que surt al document el que fa és fer les features com a atributs de tipus numèric continu, aleshores aquest model Gaussià en principi també pot funcionar amb aquestes dades tot i que per la naturalesa del problema a priori haguéssim dit que tindriem clares diferències positives al fer servir el MultinomialNB però ens ha sorprés el GaussianNB. "
   ]
  },
  {
   "cell_type": "code",
   "execution_count": 51,
   "metadata": {},
   "outputs": [
    {
     "data": {
      "text/plain": [
       "[Text(0.5, 0, 'accuracy'),\n",
       " (0.2, 1.0),\n",
       " Text(0.5, 1.0, 'Classificadors bayesians mitjana datasets')]"
      ]
     },
     "execution_count": 51,
     "metadata": {},
     "output_type": "execute_result"
    },
    {
     "data": {
      "image/png": "[encoded data removed]",
      "text/plain": [
       "<Figure size 720x720 with 1 Axes>"
      ]
     },
     "metadata": {
      "needs_background": "light"
     },
     "output_type": "display_data"
    }
   ],
   "source": [
    "plt.figure(figsize=(10,10))\n",
    "ax = sns.barplot(x='mitjana', y=['GaussianNB()', 'MultinomialNB()', 'BernoulliNB()', 'CategoricalNB(alpha=1e-10)', 'CategoricalNB(alpha=1)'],data=taula_ac_models,palette=\"Blues_d\")\n",
    "ax.set(xlabel='accuracy', xlim=(0.2,1), title=\"Classificadors bayesians mitjana datasets\")"
   ]
  },
  {
   "cell_type": "markdown",
   "metadata": {},
   "source": [
    "De mitjana veiem que el classificador més polivalent pels diferents datasets que hem tractat seria el classificador bayesià de GaussianNB amb una mitjana bastant decent de 86% de accuracy. Aquest és el que arriba a donar millors resultats en promig pels diferents problemes que tracten cadascún dels diferents datasets. Després si ens fixem veurem que el MultinomialNB i el CategoricalNB amb suavització Lidstone també arriben a donar-nos uns resultats més o menys asequibles amb una pèrdua d'entre el 10-13% d'accuracy respecte al Gaussià respectivament. Els dos darrers serien el CategoricalNB amb suavització Laplace i finalment el BernoulliNB, més especialitzat per dades binaries i més concret posiblement respecte als altres tot i que arriba a tenir més d'un 70% sobre ser el més baix en accuracy promig. \n",
    "Si ens fixem amb les dues versions del CategoricalNB veurem uns resultats bastant bons pels primers 4 datasets, tant per la suavització Lidstone com per la suavització Laplace, just al darrer dataset d'ocurrències de paraules al dataset de text obtenim uns resultats bastant dolents amb un 27% d'accuracy, però per tots els altres datasets els resultats són molt millors, arribant fins a un accuracy molt semblant al Gaussià si fem servir una suavització Lidstone."
   ]
  },
  {
   "cell_type": "markdown",
   "metadata": {},
   "source": [
    "#### Pregunta 4: Et sorprenen el resultats? Com és possible que certs models funcionin per dades que en principi no haurien de funcionar? Explica els atributs més importants de cada classificador. Mostra'n exemples i analitza'ls."
   ]
  },
  {
   "cell_type": "markdown",
   "metadata": {},
   "source": [
    "Com he dit al anterior apartat detalladament per cada dataset, m'ha sorprès el fet que alguns classificadors que en principi clarament no eren adients al problema que es tractava hagin funcionat en alguns cassos millor que els que jo pensava que ens donarien els resultats més positius. \n",
    "Analitzarem un parell de cassos en els que alguns models bayesians que a priori no fariem servir per la naturalesa del problema ens han donat un accuracy molt positiu.  Potser l'explicació d'això seria que alguns models com per exemple el MultinomialNB s'adapta bé per aquells datasets on tenim fenòmens d'ocurrències a les nostres dades, per exemple, la distribució de la longitud de les fulles de les flors (al dataset iris) és diferent segons el tipus de flor que aquesta sigui, tot i tenir tots els atributs de tipus numèric i continu (on pensem en un primer moment que el GaussianNB seria dels més adients) tindrem un fenòmen aquí d'ocurrències on les flors d'una determinada classe tinguin una major proporció d'ocurrència en les fulles entre els 5 i els 6 centímetres i aleshores quan això es doni ens proporcionarà informació realment rellevant per poder classificar la flor d'un tipus o d'un altre diferent. Aleshores tot i nosaltres pensar en que el més adient és el GaussianNB realment no hi ha diferència respecte als resultats obtinguts amb el MultinomialNB. Potser de primeres no ens adonem d'algunes característiques que tenen les nostres dades i després es reflexen al veure uns resultats força bons quan apliquem alguns models que a priori pensavem que no funcionarien. En altres cassos tindrem per exemple datasets amb atributs binaris i altres categòrics, potser en tenim molts més que siguin binaris (8 per exemple) i decidim aplicar un BernoulliNB i veiem que el accuracy de fet és més alt pel cas del CategoricalNB sobre només haver tingut 4 atributs dels 13 presents a la BBDD per exemple. Això es podria donar quan els nostres atributs categòrics expliquen amb més detall el nivell de relació en que una determinada observació sigui assignada a una classe o a una altra, potser els atributs categòrics tenen una major correlació que els binaris tots plegats... També la forma en la que codifiquem les dades doncs  té un clar impacte després en el comportament dels diferents models bayesians al meu parer. "
   ]
  },
  {
   "cell_type": "markdown",
   "metadata": {},
   "source": [
    "Mirarem els diferents atributs per cada classificador per poder entendre millor els diferents classificadors bayesians:\n"
   ]
  },
  {
   "cell_type": "markdown",
   "metadata": {},
   "source": [
    "En primer lloc tenim el classificador GaussianNB que com atributs més interessants tindriem el class_prior que seria la probabilitat per cada classe, tindriem també l'atribut classes_ que serien les etiquetes de classe pel classificador, el n_features_in_ que serien el nombre de features al fit, el var_ que ens explica la variança per cada feature per classe i el theta_ que és la mitjana de cada feature per classe mentre que el sigma_ seria la variança. El epsilon també és interessant i seria el valor aditiu a les variances. "
   ]
  },
  {
   "cell_type": "markdown",
   "metadata": {},
   "source": [
    "Per una altra banda tenim el classificador MultinomialNB que com atributs més importants veiem: class_count que seria el nombre de mostres trobades per cada classe al llarg del procés d'entrenament. El class_log_prior_ seria la probabilitat logarítmica suavitzada per cada classe, classes_ que serien les etiquetes classes conegudes pel classificador, feature_count que és el atribut que ens explicaria el nombre de mostres trobades per cada classe i feature al llarg del procés d'entrenament, feature_log_prob_ que és la probabilitat logarítmica empírica dels features donada una classe, osigui la probabilitat de x_i donada y (P(x_i|y)). Després tenim el n_features_in_ que és el nombre de features vistes al entrenament i finalment el atribut features_names_in_ que serà el nombre de features vistes all entrenament però només es definirà quan x tingui features que siguin strings. "
   ]
  },
  {
   "cell_type": "markdown",
   "metadata": {},
   "source": [
    "Pel cas del BernoulliNB si ens fixem amb els seus atributs no en veurem de nous, té els mateixos atributs que el darrer model de MultinomialNB. "
   ]
  },
  {
   "cell_type": "markdown",
   "metadata": {},
   "source": [
    "Finalment pel cas del classificador bayesià CategoricalNB veurem els següents atributs: el category_count serien arrays del tipus (numero_classes, numero_classes_duna_categoria) per cada categoria. Cada array ens donaria el numero de mostres trobades per cada classe i categoria d'una feature concreta. El class_count_ seria el nombre de mostres trobades per cada classe durant l'entrenament que pot ser ponderat en cas d'especificar-ho. El class_log_prior_ seria la probabilitat logarítmica suavitzada per cada classe, el atribut classes_ seria les labels conegudes per cada classificador. El feature_log_prob_ tindria un seguit d'arrays del mateix tipus que els del atribut que hem especificat abans (category_count_) amb l'excepció que en aquest atribut els arrays contindràn les probabilitats logarítmiques de categories donades una feature i una classe (P(x_i|y)). El n_features_in_ i el atribut features_names_in_ serien iguals que en el cas del MultinomialNB i finalment aquí tindriem l'atribut n_categories_ que a diferència del primer que hem descrit aquest ens diria el nombre de categories per cada feature, un valor que es podria inferir de les dades o que podria ser fixat pel nombre mínim de categories."
   ]
  },
  {
   "cell_type": "markdown",
   "metadata": {},
   "source": [
    "#### Pregunta 5: Si el nostre dataset conté dades de diferent naturalesa, és a dir, uns atributs categorics, d'altres continus, d'altres binaris, creus que es podrien combinar els diferents classificadors de bayes? Seguint la formula original, com es faria? "
   ]
  },
  {
   "cell_type": "markdown",
   "metadata": {},
   "source": [
    "Si, podriem definir diferents classificadors per obtenir una millora en la precissió de tot el model. Tot seguit provarem a fer una prova sobre un dels datasets que hem analitzat, en aquest cas escullo el dataset \"playgolf\" per veure si podem millorar el accuracy perquè com podem veure és el més pessimista en termes de accuracy. En aquest cas tenim la meitat dels atributs de tipus categòric i l'altra meitat són atributs binaris. Aleshores combinarem un model bayesià BernoulliNB i un CategoricalNB amb suavització Lidstone perquè com hem vist en els apartats anteriors sembla funcionar millor que amb una suavització de tipus Laplace. "
   ]
  },
  {
   "cell_type": "code",
   "execution_count": 14,
   "metadata": {},
   "outputs": [
    {
     "name": "stdout",
     "output_type": "stream",
     "text": [
      "CROSSVALIDACIÓ dataset PlayGolf\n",
      "Model híbrid amb models bayesians BernoulliNB i CategoricalNB (suavització Lidstone):\n",
      "\n",
      "Mitjana de les crossvalidacions: 0.733\n"
     ]
    }
   ],
   "source": [
    "import numpy as np\n",
    "from statistics import mean\n",
    "at_categorics = dataGolf[[\"Outlook\", \"Temperature\"]]\n",
    "at_binaris = dataGolf[[\"Humidity\", \"Windy\"]]\n",
    "at_target = dataGolf[\"PlayGolf\"]\n",
    "L=[]\n",
    "for i in [at_categorics, at_binaris]:\n",
    "    codificador = OrdinalEncoder()\n",
    "    codificador.fit(i)\n",
    "    trans = codificador.transform(i)\n",
    "    L.append(trans)\n",
    "\n",
    "X = np.c_[L[0][:,0].ravel(), L[0][:,1].ravel(), L[1][:,0].ravel(), L[1][:,1].ravel()]\n",
    "model_Bernoulli = BernoulliNB()\n",
    "model_Bernoulli.fit(X[:,0:2], at_target)\n",
    "model_Categorical = CategoricalNB(alpha=1e-10)\n",
    "model_Categorical.fit(X[:,2:4], at_target)\n",
    "\n",
    "pred_bin = model_Bernoulli.predict_proba(X[:,0:2])\n",
    "pred_categ = model_Categorical.predict_proba(X[:,2:4])\n",
    "nou_X = np.c_[(pred_bin[:,:], pred_categ[:,:])]\n",
    "\n",
    "model_final = GaussianNB()\n",
    "model_final.fit(nou_X, at_target)\n",
    "print(\"CROSSVALIDACIÓ dataset PlayGolf\\nModel híbrid amb models bayesians BernoulliNB i CategoricalNB (suavització Lidstone):\\n\")\n",
    "print(\"Mitjana de les crossvalidacions: \"+str(round(mean(cross_val_score(model_final, nou_X, at_target)),3)))\n"
   ]
  },
  {
   "cell_type": "markdown",
   "metadata": {},
   "source": [
    "Aleshores com podem veure aquest model híbrid que fa servir un model Bernoulli i un Categorical amb suavització Lidstone ens millora el accuracy de la crossvalidació. La millora és d'un 3,3% més de accuracy respecte al més alt que haviem aconseguit que era el CategoricalNB(alpha=1e-10), no és gaire en aquest cas però com podem comprovar si combinem diferents models que s'ajustin millor als diferents atributs es pot traduïr en un increment del accuracy de les prediccions. Realment un cop sabem com fer aquests models híbrids no costa gaire fer-ho per tenir millors resultats. Per petita que sigui la millora, no deixa de ser millora i en el camp del machine learning això ens interesse bastant mentre no augmenti desmesuradament la complexitat del problema, cosa que es tradueix amb un increment de recursos computacionals requerits per calcular els resultats. "
   ]
  },
  {
   "cell_type": "markdown",
   "metadata": {},
   "source": [
    "El que he fet en aquest apartat és agafar els nostres atributs sobre els que volem calcular les probabilitats i dividir-los en dos subgrups, els atributs de tipus categòric i aquells que són binaris. Un cop els tenim dividits el que fem és codificar-los amb el OrdinalEncoder, els fiquem tots junts un altre cop a un array per poder treballar com si fos el conjunt X tot plegat. Tot seguit simplement el que hem de fer és definir els dos classificadors bayesians amb els que volem treballar (GaussianNB i CategoricalNB(alpha=1e-10)) i ajustar-los amb els seus respectius atributs. Un cop tenim això el que volem és fer servir tots dos models en un sol, és a dir, barrejar els dos models, aleshores això ho faig fent unes prediccions sobre els models definits (ens treu probabilitats pels dos models) i un cop hem fet això tornem a redefinir el conjunt X amb les probabilitats dels dos models que ara tindrà valors continus. \n",
    "Per aquest conjunt nou amb valors continus el que necessitem és el millor model que pugui treballar amb aquestes dades, aleshores creem un model gaussià i l'ajustem amb el conjunt que tot just acabem de crear. Un cop el tenim ajustat ja podem fer les crossvalidacions i veure els resultats dels dos models plegats. Aleshores podem barrejar diferents classificadors bayesians treient les prediccions amb probabilitats per cadascún d'ells i després \"unificant\" aquest format sobre un nou conjunt que podem aplicar a un GaussianNB per exemple."
   ]
  },
  {
   "cell_type": "markdown",
   "metadata": {},
   "source": [
    "## B. Implementació Naive Bayes (40%)\n",
    "\n",
    "En aquest apartat implementarem un classificador Ingenu de Bayes per cada un dels tipus de dades. Per fer això, i que sigui fàcil de comparar amb els resultats del apartat anterior, feu servir un esquelet similar al següent:\n",
    "        \n"
   ]
  },
  {
   "cell_type": "markdown",
   "metadata": {},
   "source": [
    "#### Pregunta 0: Implementem métode calcular_prior():"
   ]
  },
  {
   "cell_type": "markdown",
   "metadata": {},
   "source": [
    "### NaiveBayes Base"
   ]
  },
  {
   "cell_type": "code",
   "execution_count": 6,
   "metadata": {},
   "outputs": [],
   "source": [
    "class NaiveBayes(object):\n",
    "    def __init__(self, alpha):\n",
    "        self.alpha = alpha\n",
    "        self.n_samples = 0\n",
    "        self.class_count_ = []  # numero de exemples de cada categoria\n",
    "        self.class_prior_ = []  # prior per cada categoria\n",
    "        self.classes_ = []      # nom o etiqueta de cada label\n",
    "        \n",
    "\n",
    "    def __str__(self):\n",
    "        # toString()  \n",
    "        return (self.__class__.__name__+\"()\")\n",
    "        \n",
    "    def calcular_conditional(self, X, y):\n",
    "        \"\"\"\n",
    "        Compute the conditional probability for the training data for each feature\n",
    "        \"\"\"\n",
    "        raise(\"TO BE DONE. Ho heu que implementar per cada subclasse\")\n",
    "    \n",
    "    def calcular_likelihood_log(self, X):\n",
    "        \"\"\"\n",
    "        Compute the unnormalized posterior log probability of X\n",
    "        \"\"\"\n",
    "        raise(\"TO BE DONE. Ho heu que implementar per cada subclasse\")\n",
    "\n",
    "    def calcular_prior(self, y):\n",
    "        \"\"\"\n",
    "        Compute the class prior\n",
    "        \"\"\"\n",
    "        try:\n",
    "            temp = list(y.value_counts())\n",
    "        except AttributeError:\n",
    "            nou_y = pd.DataFrame(y)\n",
    "            temp = list(nou_y.value_counts())\n",
    "            \n",
    "        suma = sum(temp)\n",
    "        for x in range(len(temp)):\n",
    "            temp[x]=temp[x]/suma\n",
    "            \n",
    "        self.class_prior_ = temp\n",
    "            \n",
    "    def predict(self, X):\n",
    "        probs = self.predict_proba(X)\n",
    "        return self.classes_[np.argmax(probs, axis=1)]\n",
    "    \n",
    "    def predict_proba(self, X):\n",
    "        probs = np.exp(self.predict_log_proba(X))\n",
    "        total_sum = np.sum(probs, axis=1)\n",
    "        for i in range(len(self.classes_)):\n",
    "            probs[:,i] /= total_sum\n",
    "        return probs\n",
    "\n",
    "    def predict_log_proba(self, X):\n",
    "        probs = self.calcular_likelihood_log(X)\n",
    "        for i in range(len(self.classes_)):\n",
    "            probs[:][i] += np.log(self.class_prior_[i])\n",
    "       \n",
    "        return probs\n",
    "\n",
    "    \n",
    "    def score(self, X, y):\n",
    "        return np.sum(self.predict(X) == y) / len(y)\n",
    "        \n",
    "    def fit(self, X, y):\n",
    "\n",
    "        self.n_samples = X.shape[0]\n",
    "        self.classes_ = np.unique(y)\n",
    "\n",
    "        # calcular p(y)\n",
    "        self.calcular_prior(y)\n",
    "        \n",
    "        # per cada una de les columnes de x\n",
    "        for i in range(X.shape[1]):\n",
    "            # calcular p(xi | y)\n",
    "            self.calcular_conditional(X, y)\n",
    "        \n"
   ]
  },
  {
   "cell_type": "markdown",
   "metadata": {},
   "source": [
    "#### Pregunta 1: Implementem el GaussianNaiveBayes: "
   ]
  },
  {
   "cell_type": "markdown",
   "metadata": {},
   "source": [
    "### GaussianNaiveBayes"
   ]
  },
  {
   "cell_type": "code",
   "execution_count": 24,
   "metadata": {},
   "outputs": [],
   "source": [
    "from math import e\n",
    "\n",
    "class GaussianNaiveBayes(NaiveBayes):\n",
    "    def __init__(self, alpha=1):\n",
    "        super().__init__(alpha)\n",
    "        self.theta_ = None  # mean\n",
    "        self.sigma_ = None  # var\n",
    "        \n",
    "\n",
    "    def calcular_conditional(self, X, y):\n",
    "        \n",
    "        temp = pd.concat([X,y],axis=1)\n",
    "        target = temp.columns[-1]\n",
    "        self.theta_ = temp.groupby([target]).mean().to_numpy()\n",
    "        self.sigma_ = temp.groupby([target]).var().to_numpy()\n",
    "                             \n",
    "    def calcular_likelihood_log(self, X):\n",
    "\n",
    "        prob = np.ones((X.shape[0],len(self.classes_)))\n",
    "        for fila in range(X.shape[0]):\n",
    "            for columna in range(X.shape[1]):\n",
    "                element_i = X.iloc[fila][columna]\n",
    "                for label in range(len(self.classes_)):\n",
    "                    den = (self.sigma_[label][columna]*np.sqrt(2*np.pi))\n",
    "                    prob[fila,label]+=np.log((1/den) * e**(-(element_i-self.theta_[label][columna])**2/(2*(self.sigma_[label][columna])**2)))\n",
    "        return prob"
   ]
  },
  {
   "cell_type": "code",
   "execution_count": 31,
   "metadata": {},
   "outputs": [
    {
     "name": "stdout",
     "output_type": "stream",
     "text": [
      "Tenim un accuracy al dataset iris fent servir un classificador implementat basat en GaussianNaiveBayes de: 0.94\n",
      "Tenim un accuracy al dataset iris fent servir el classificador GaussianNB de sklearn de :0.96\n"
     ]
    },
    {
     "name": "stderr",
     "output_type": "stream",
     "text": [
      "<ipython-input-24-2df30057ec1f>:25: RuntimeWarning: divide by zero encountered in log\n",
      "  prob[fila,label]+=np.log((1/den) * e**(-(element_i-self.theta_[label][columna])**2/(2*(self.sigma_[label][columna])**2)))\n"
     ]
    }
   ],
   "source": [
    "from sklearn.naive_bayes import GaussianNB\n",
    "\n",
    "iris = load_iris()\n",
    "X, y = load_dataset(\"iris-bayes_imp\")\n",
    "model_gaussia = GaussianNaiveBayes()\n",
    "model_gaussia.fit(X,y)\n",
    "print(\"Tenim un accuracy al dataset iris fent servir un classificador implementat basat en GaussianNaiveBayes de: \"+str(model_gaussia.score(X,y)))\n",
    "model_gaussia_sklearn = GaussianNB()\n",
    "model_gaussia_sklearn.fit(X,y)\n",
    "print(\"Tenim un accuracy al dataset iris fent servir el classificador GaussianNB de sklearn de :\"+str(model_gaussia_sklearn.score(X,y)))"
   ]
  },
  {
   "cell_type": "markdown",
   "metadata": {},
   "source": [
    "Com podem veure els resultats pel que fa al accuracy són bastant propers l'un de l'altre. Al que hem implementat tenim un accuracy d'un 94% mentre que amb el de sklearn tenim un guany d'un 2% arribant al 96%. Entenc que he fet bé aquesta implementació per les diferents proves que he anat fent veient aquests resultats i te sentit que les funcions de sklearn ens donin un accuracy més elevat per la precissió de càlcul que hi haurà amb la seva implementació i amb una major robustesa pel que fa als models matemàtics més estesos que potser apliquen en aquestes implementacions. Amb aquest model de scratch que hem fet ja obtenim uns resultats satisfactoris i ens ajuda a comprendre una mica millor el mètode Gaussià. "
   ]
  },
  {
   "cell_type": "markdown",
   "metadata": {},
   "source": [
    "#### Pregunta 2: Implementa el CategoricalNaiveBayes:"
   ]
  },
  {
   "cell_type": "markdown",
   "metadata": {},
   "source": [
    "Aquí després d'una bona estona intentant treure aquest classificador finalment no m'ha donat temps per acabar de debuggar-lo, veure els errors i acabar de fer-lo funcional però crec que la meva idea és bastant propera al que realment és el CategoricalNB. Per qüestions d'altres entregues i exàmens malauradament no hi ha arribat a acabar aquest apartat però crec que puc demostrar mínimament haver repassat el model i haver-ho intentat amb una idea que penso que no és fidel al que fa aquest classificador.  "
   ]
  },
  {
   "cell_type": "markdown",
   "metadata": {},
   "source": [
    "### CategoricalNaiveBayes"
   ]
  },
  {
   "cell_type": "code",
   "execution_count": 26,
   "metadata": {},
   "outputs": [],
   "source": [
    "class CategoricalNaiveBayes(NaiveBayes):\n",
    "    def _init_(self, alpha=1):\n",
    "        super()._init_(alpha)\n",
    "        self.category_count_ = []\n",
    "        self.feature_log_prob_ = []\n",
    "            \n",
    "    def calcular_conditional(self, X, y):\n",
    "        features = X.shape[1]\n",
    "        classes = y.shape[1]\n",
    "        \n",
    "        for i in range(features):\n",
    "            feature_compt = []\n",
    "            feature_i = X[:,i]\n",
    "            for j in range(classes):\n",
    "                conjunt = y[:,j].astype(bool)\n",
    "                compt = np.bincount(feature_i[conjunt])\n",
    "                \n",
    "                feature_compt.append(compt)\n",
    "            \n",
    "            self.category_count_.append(np.array(feature_compt))\n",
    "\n",
    "    def calcular_likelihood_log(self, X):\n",
    "        for i in range(X.shape[1]):\n",
    "            numerador = self.category_count_[i] + self.alpha\n",
    "            denominador = numerador.sum(axis=1).reshape(-1,1)\n",
    "            prob = np.log(numerador) - np.log(denominador)\n",
    "            \n",
    "            self.feature_log_prob_.append(prob.tolist())\n",
    "        \n",
    "\n",
    "        return self.feature_log_prob_"
   ]
  },
  {
   "cell_type": "code",
   "execution_count": null,
   "metadata": {},
   "outputs": [],
   "source": [
    "from sklearn.preprocessing import LabelBinarizer\n",
    "from sklearn.naive_bayes import CategoricalNB \n",
    "\n",
    "X, y = load_dataset(\"playgolf\")\n",
    "X = X.astype(\"int\")\n",
    "binaritzador_target = LabelBinarizer()\n",
    "y_bin = binaritzador_target.fit_transform(y)\n",
    "if y_bin.shape[1] == 1:\n",
    "    y_bin = np.concatenate((1 - y_bin, y_bin), axis=1)\n",
    "model_categoric = CategoricalNaiveBayes(alpha=0.01)\n",
    "model_categoric.fit(X,y_bin)\n",
    "print(\"Tenim un accuracy amb el CategoricalNaiveBayes implementat de: \"+str(model_categoric.score(X,y)))\n",
    "model_categoric_sklearn = CategoricalNB()\n",
    "model_categoric_sklearn.fit(X, y)\n",
    "print(\"Tenim un accuracy amb el CategoricalNB de sklearn de: \"+str(model_categoric_sklearn.score(X,y)))"
   ]
  },
  {
   "cell_type": "markdown",
   "metadata": {},
   "source": [
    "#### Pregunta 3: Compara els resultats obtinguts amb els de sklearn. S'assemblen?"
   ]
  },
  {
   "cell_type": "markdown",
   "metadata": {},
   "source": [
    "Tal i com he dit al apartat del GaussianNB, els resultats que he obtingut penso que s'assemblen bastant als que obtenim amb les funcions implementades de sklearn. Obviament sempre hi haurà una petita desviació pel que fa al accuracy perquè imagino que les funcions de sklearn estaràn programades per matemàtics i/o enginyers més especialitzats en programació científica i experts en aquest camp i aleshores els models matemàtics que hi haurà al darrere segur que seràn mes robustos i estesos que la nostra implementació podent arribar a obtenir un accuracy més elevat per aquestes funcions ja implementades de sklearn. Aleshores com hem pogut veure s'han comparat els resultats i hem vist que els resultats s'assemblen bastant."
   ]
  },
  {
   "cell_type": "markdown",
   "metadata": {},
   "source": [
    "### MultinomialNaiveBayes"
   ]
  },
  {
   "cell_type": "code",
   "execution_count": null,
   "metadata": {},
   "outputs": [],
   "source": [
    "class MultinomialNaiveBayes(NaiveBayes):\n",
    "    def __init__(self, alpha=1):\n",
    "        super().__init__(alpha)\n",
    "        self.feature_log_prob_ = []\n",
    "\n",
    "    def calcular_conditional(self, X, y):\n",
    "        # todo\n",
    "        # calcular self.feature_log_prob_ segons la formula corresponent\n",
    "\n",
    "\n",
    "    def calcular_likelihood_log(self, X):\n",
    "        # todo\n",
    "        # dot product entre les features i les vostres probabilitats calculades     \n",
    "        pass"
   ]
  },
  {
   "cell_type": "markdown",
   "metadata": {},
   "source": [
    "#### Preguntes\n",
    "Per aquest apartat, intenteu de fer-ho en python directament, per a poder debugar el codi més fàcilment. Compareu el vostre resultat amb el de sklearn. Feu-ho també per passos intermitjos, i veure que ho esteu fent correctament.\n",
    "\n",
    "1. Implementa $P(x_i|y)$ per dades categoriques (Categorical Naive Bayes)\n",
    "2. Implementa $P(x_i|y)$ per dades continues (Gaussian Naive Bayes)\n",
    "3. Compara els resultats obtinguts amb els de sklearn. S'assemblen?\n",
    "4. (opcional) Implementa $P(x_i|y)$ per dades ordinals (Multinomial Naive Bayes) (+1pts)\n"
   ]
  },
  {
   "cell_type": "markdown",
   "metadata": {},
   "source": [
    "## Appendix \n",
    "#### (no s'hi ha de fer res, tan sols es per si us ajuda a entendre-ho tot millor)"
   ]
  },
  {
   "cell_type": "markdown",
   "metadata": {},
   "source": [
    "<!--BOOK_INFORMATION-->\n",
    "<img align=\"left\" style=\"padding-right:10px;\" src=\"https://github.com/jakevdp/PythonDataScienceHandbook/blob/master/notebooks/figures/PDSH-cover-small.png?raw=1\">\n",
    "\n",
    "*Aquesta subsecció conté parts extretes de [Python Data Science Handbook](http://shop.oreilly.com/product/0636920034919.do) by Jake VanderPlas; i està disponible a [GitHub](https://github.com/jakevdp/PythonDataScienceHandbook).*\n",
    "\n",
    "\n",
    "\n",
    "Naive Bayes models are a group of extremely fast and simple classification algorithms that are often suitable for very high-dimensional datasets.\n",
    "\n",
    "Because they are so fast and have so few tunable parameters, they end up being very useful as a quick-and-dirty baseline for a classification problem.\n",
    "\n",
    "This section will focus on an intuitive explanation of how naive Bayes classifiers work, followed by a couple examples of them in action on some datasets."
   ]
  },
  {
   "cell_type": "markdown",
   "metadata": {},
   "source": [
    "### Bayesian Classification\n",
    "\n",
    "Naive Bayes classifiers are built on Bayesian classification methods.\n",
    "\n",
    "These rely on Bayes's theorem, which is an equation describing the relationship of conditional probabilities of statistical quantities.\n",
    "\n",
    "In Bayesian classification, we're interested in finding the probability of a label given some observed features, which we can write as $P(L~|~{\\rm features})$.\n",
    "\n",
    "Bayes's theorem tells us how to express this in terms of quantities we can compute more directly:\n",
    "\n",
    "$$\n",
    "P(L~|~{\\rm features}) = \\frac{P({\\rm features}~|~L)P(L)}{P({\\rm features})}\n",
    "$$\n",
    "\n",
    "If we are trying to decide between two labels—let's call them $L_1$ and $L_2$—then one way to make this decision is to compute the ratio of the posterior probabilities for each label:\n",
    "\n",
    "$$\n",
    "\\frac{P(L_1~|~{\\rm features})}{P(L_2~|~{\\rm features})} = \\frac{P({\\rm features}~|~L_1)}{P({\\rm features}~|~L_2)}\\frac{P(L_1)}{P(L_2)}\n",
    "$$\n",
    "\n",
    "All we need now is some model by which we can compute $P({\\rm features}~|~L_i)$ for each label.\n",
    "\n",
    "Such a model is called a *generative model* because it specifies the hypothetical random process that generates the data.\n",
    "\n",
    "Specifying this generative model for each label is the main piece of the training of such a Bayesian classifier.\n",
    "\n",
    "The general version of such a training step is a very difficult task, but we can make it simpler through the use of some simplifying assumptions about the form of this model.\n",
    "\n",
    "This is where the \"naive\" in \"naive Bayes\" comes in: if we make very naive assumptions about the generative model for each label, we can find a rough approximation of the generative model for each class, and then proceed with the Bayesian classification.\n",
    "\n",
    "Different types of naive Bayes classifiers rest on different naive assumptions about the data, and we will examine a few of these in the following sections.\n",
    "\n",
    "We begin with the standard imports:"
   ]
  },
  {
   "cell_type": "code",
   "execution_count": 95,
   "metadata": {
    "pycharm": {
     "name": "#%%\n"
    }
   },
   "outputs": [],
   "source": [
    "%matplotlib inline\n",
    "import numpy as np\n",
    "import matplotlib.pyplot as plt\n",
    "import seaborn as sns"
   ]
  },
  {
   "cell_type": "markdown",
   "metadata": {},
   "source": [
    "### Gaussian Naive Bayes\n",
    "\n",
    "Perhaps the easiest naive Bayes classifier to understand is Gaussian naive Bayes.\n",
    "In this classifier, the assumption is that *data from each label is drawn from a simple Gaussian distribution*.\n",
    "Imagine that you have the following data:"
   ]
  },
  {
   "cell_type": "code",
   "execution_count": 96,
   "metadata": {
    "pycharm": {
     "name": "#%%\n"
    }
   },
   "outputs": [
    {
     "data": {
      "image/png": "[encoded data removed]",
      "text/plain": [
       "<Figure size 432x288 with 1 Axes>"
      ]
     },
     "metadata": {
      "needs_background": "light"
     },
     "output_type": "display_data"
    }
   ],
   "source": [
    "from sklearn.datasets import make_blobs\n",
    "X, y = make_blobs(100, 2, centers=2, random_state=2, cluster_std=1.5)\n",
    "plt.scatter(X[:, 0], X[:, 1], c=y, s=50, cmap='RdBu');"
   ]
  },
  {
   "cell_type": "markdown",
   "metadata": {},
   "source": [
    "One extremely fast way to create a simple model is to assume that the data is described by a Gaussian distribution with no covariance between dimensions.\n",
    "\n",
    "This model can be fit by simply finding the mean and standard deviation of the points within each label, which is all you need to define such a distribution.\n",
    "\n",
    "The result of this naive Gaussian assumption is shown in the following figure:"
   ]
  },
  {
   "cell_type": "markdown",
   "metadata": {},
   "source": [
    "The ellipses here represent the Gaussian generative model for each label, with larger probability toward the center of the ellipses.\n",
    "\n",
    "With this generative model in place for each class, we have a simple recipe to compute the likelihood $P({\\rm features}~|~L_1)$ for any data point, and thus we can quickly compute the posterior ratio and determine which label is the most probable for a given point.\n",
    "\n",
    "This procedure is implemented in Scikit-Learn's ``sklearn.naive_bayes.GaussianNB`` estimator:"
   ]
  },
  {
   "cell_type": "code",
   "execution_count": 97,
   "metadata": {
    "pycharm": {
     "name": "#%%\n"
    }
   },
   "outputs": [
    {
     "data": {
      "text/plain": [
       "GaussianNB()"
      ]
     },
     "execution_count": 97,
     "metadata": {},
     "output_type": "execute_result"
    }
   ],
   "source": [
    "from sklearn.naive_bayes import GaussianNB\n",
    "model = GaussianNB()\n",
    "model.fit(X, y)"
   ]
  },
  {
   "cell_type": "markdown",
   "metadata": {},
   "source": [
    "Now let's generate some new data and predict the label:"
   ]
  },
  {
   "cell_type": "code",
   "execution_count": 98,
   "metadata": {
    "pycharm": {
     "name": "#%%\n"
    }
   },
   "outputs": [],
   "source": [
    "rng = np.random.RandomState(0)\n",
    "Xnew = [-6, -14] + [14, 18] * rng.rand(2000, 2)\n",
    "ynew = model.predict(Xnew)"
   ]
  },
  {
   "cell_type": "markdown",
   "metadata": {},
   "source": [
    "Now we can plot this new data to get an idea of where the decision boundary is:"
   ]
  },
  {
   "cell_type": "code",
   "execution_count": 99,
   "metadata": {
    "pycharm": {
     "name": "#%%\n"
    }
   },
   "outputs": [
    {
     "data": {
      "image/png": "[encoded data removed]",
      "text/plain": [
       "<Figure size 432x288 with 1 Axes>"
      ]
     },
     "metadata": {
      "needs_background": "light"
     },
     "output_type": "display_data"
    }
   ],
   "source": [
    "plt.scatter(X[:, 0], X[:, 1], c=y, s=50, cmap='RdBu')\n",
    "lim = plt.axis()\n",
    "plt.scatter(Xnew[:, 0], Xnew[:, 1], c=ynew, s=20, cmap='RdBu', alpha=0.1)\n",
    "plt.axis(lim);"
   ]
  },
  {
   "cell_type": "markdown",
   "metadata": {},
   "source": [
    "We see a slightly curved boundary in the classifications—in general, the boundary in Gaussian naive Bayes is quadratic.\n",
    "\n",
    "A nice piece of this Bayesian formalism is that it naturally allows for probabilistic classification, which we can compute using the ``predict_proba`` method:"
   ]
  },
  {
   "cell_type": "code",
   "execution_count": 100,
   "metadata": {
    "pycharm": {
     "name": "#%%\n"
    }
   },
   "outputs": [
    {
     "data": {
      "text/plain": [
       "array([[0.89, 0.11],\n",
       "       [1.  , 0.  ],\n",
       "       [1.  , 0.  ],\n",
       "       [1.  , 0.  ],\n",
       "       [1.  , 0.  ],\n",
       "       [1.  , 0.  ],\n",
       "       [0.  , 1.  ],\n",
       "       [0.15, 0.85]])"
      ]
     },
     "execution_count": 100,
     "metadata": {},
     "output_type": "execute_result"
    }
   ],
   "source": [
    "yprob = model.predict_proba(Xnew)\n",
    "yprob[-8:].round(2)"
   ]
  },
  {
   "cell_type": "code",
   "execution_count": 101,
   "metadata": {},
   "outputs": [
    {
     "data": {
      "text/plain": [
       "array([0, 1])"
      ]
     },
     "execution_count": 101,
     "metadata": {},
     "output_type": "execute_result"
    }
   ],
   "source": [
    "model.classes_"
   ]
  },
  {
   "cell_type": "markdown",
   "metadata": {},
   "source": [
    "The columns give the posterior probabilities of the first and second label, respectively.\n",
    "If you are looking for estimates of uncertainty in your classification, Bayesian approaches like this can be a useful approach.\n",
    "\n",
    "Of course, the final classification will only be as good as the model assumptions that lead to it, which is why Gaussian naive Bayes often does not produce very good results.\n",
    "Still, in many cases—especially as the number of features becomes large—this assumption is not detrimental enough to prevent Gaussian naive Bayes from being a useful method."
   ]
  },
  {
   "cell_type": "markdown",
   "metadata": {},
   "source": [
    "## Multinomial Naive Bayes\n",
    "\n",
    "The Gaussian assumption just described is by no means the only simple assumption that could be used to specify the generative distribution for each label.\n",
    "Another useful example is multinomial naive Bayes, where the features are assumed to be generated from a simple multinomial distribution.\n",
    "The multinomial distribution describes the probability of observing counts among a number of categories, and thus multinomial naive Bayes is most appropriate for features that represent counts or count rates.\n",
    "\n",
    "The idea is precisely the same as before, except that instead of modeling the data distribution with the best-fit Gaussian, we model the data distribution with a best-fit multinomial distribution."
   ]
  },
  {
   "cell_type": "markdown",
   "metadata": {},
   "source": [
    "### Example: Classifying Text\n",
    "\n",
    "One place where multinomial naive Bayes is often used is in text classification, where the features are related to word counts or frequencies within the documents to be classified.\n",
    "We discussed the extraction of such features from text in [Feature Engineering](05.04-Feature-Engineering.ipynb); here we will use the sparse word count features from the 20 Newsgroups corpus to show how we might classify these short documents into categories.\n",
    "\n",
    "Let's download the data and take a look at the target names:"
   ]
  },
  {
   "cell_type": "code",
   "execution_count": 82,
   "metadata": {
    "pycharm": {
     "name": "#%%\n"
    }
   },
   "outputs": [
    {
     "data": {
      "text/plain": [
       "['alt.atheism',\n",
       " 'comp.graphics',\n",
       " 'comp.os.ms-windows.misc',\n",
       " 'comp.sys.ibm.pc.hardware',\n",
       " 'comp.sys.mac.hardware',\n",
       " 'comp.windows.x',\n",
       " 'misc.forsale',\n",
       " 'rec.autos',\n",
       " 'rec.motorcycles',\n",
       " 'rec.sport.baseball',\n",
       " 'rec.sport.hockey',\n",
       " 'sci.crypt',\n",
       " 'sci.electronics',\n",
       " 'sci.med',\n",
       " 'sci.space',\n",
       " 'soc.religion.christian',\n",
       " 'talk.politics.guns',\n",
       " 'talk.politics.mideast',\n",
       " 'talk.politics.misc',\n",
       " 'talk.religion.misc']"
      ]
     },
     "execution_count": 82,
     "metadata": {},
     "output_type": "execute_result"
    }
   ],
   "source": [
    "from sklearn.datasets import fetch_20newsgroups\n",
    "\n",
    "data = fetch_20newsgroups()\n",
    "data.target_names"
   ]
  },
  {
   "cell_type": "markdown",
   "metadata": {},
   "source": [
    "For simplicity here, we will select just a few of these categories, and download the training and testing set:"
   ]
  },
  {
   "cell_type": "code",
   "execution_count": 104,
   "metadata": {
    "pycharm": {
     "name": "#%%\n"
    }
   },
   "outputs": [],
   "source": [
    "categories_m = ['talk.religion.misc', 'soc.religion.christian',\n",
    "            'sci.space', 'comp.graphics']\n",
    "train = fetch_20newsgroups(subset='train', categories=categories_m)\n",
    "test = fetch_20newsgroups(subset='test', categories=categories_m)"
   ]
  },
  {
   "cell_type": "markdown",
   "metadata": {},
   "source": [
    "Here is a representative entry from the data:"
   ]
  },
  {
   "cell_type": "code",
   "execution_count": 105,
   "metadata": {
    "pycharm": {
     "name": "#%%\n"
    }
   },
   "outputs": [
    {
     "name": "stdout",
     "output_type": "stream",
     "text": [
      "From: dmcgee@uluhe.soest.hawaii.edu (Don McGee)\n",
      "Subject: Federal Hearing\n",
      "Originator: dmcgee@uluhe\n",
      "Organization: School of Ocean and Earth Science and Technology\n",
      "Distribution: usa\n",
      "Lines: 10\n",
      "\n",
      "\n",
      "Fact or rumor....?  Madalyn Murray O'Hare an atheist who eliminated the\n",
      "use of the bible reading and prayer in public schools 15 years ago is now\n",
      "going to appear before the FCC with a petition to stop the reading of the\n",
      "Gospel on the airways of America.  And she is also campaigning to remove\n",
      "Christmas programs, songs, etc from the public schools.  If it is true\n",
      "then mail to Federal Communications Commission 1919 H Street Washington DC\n",
      "20054 expressing your opposition to her request.  Reference Petition number\n",
      "\n",
      "2493.\n",
      "\n"
     ]
    }
   ],
   "source": [
    "print(train.data[5])"
   ]
  },
  {
   "cell_type": "markdown",
   "metadata": {},
   "source": [
    "Show the distributions of lengths of the emails"
   ]
  },
  {
   "cell_type": "code",
   "execution_count": 85,
   "metadata": {
    "pycharm": {
     "name": "#%%\n"
    }
   },
   "outputs": [
    {
     "data": {
      "image/png": "[encoded data removed]",
      "text/plain": [
       "<Figure size 432x288 with 1 Axes>"
      ]
     },
     "metadata": {
      "needs_background": "light"
     },
     "output_type": "display_data"
    }
   ],
   "source": [
    "import numpy as np\n",
    "import matplotlib.pyplot as plt \n",
    "\n",
    "lens = [len(d) for d in train.data]\n",
    "\n",
    "def plot_loghist(x, bins):\n",
    "  hist, bins = np.histogram(x, bins=bins)\n",
    "  logbins = np.logspace(np.log10(bins[0]),np.log10(bins[-1]),len(bins))\n",
    "  plt.hist(x, bins=logbins)\n",
    "  plt.xscale('log')\n",
    "\n",
    "plot_loghist(lens, 10)\n"
   ]
  },
  {
   "cell_type": "markdown",
   "metadata": {},
   "source": [
    "In order to use this data for machine learning, we need to be able to convert the content of each string into a vector of numbers.\n",
    "For this we will use the TF-IDF vectorizer, and create a pipeline that attaches it to a multinomial naive Bayes classifier:"
   ]
  },
  {
   "cell_type": "code",
   "execution_count": 37,
   "metadata": {
    "pycharm": {
     "name": "#%%\n"
    }
   },
   "outputs": [],
   "source": [
    "from sklearn.feature_extraction.text import TfidfVectorizer\n",
    "from sklearn.naive_bayes import MultinomialNB\n",
    "from sklearn.pipeline import make_pipeline\n",
    "\n",
    "model = make_pipeline(TfidfVectorizer(), MultinomialNB())"
   ]
  },
  {
   "cell_type": "markdown",
   "metadata": {},
   "source": [
    "With this pipeline, we can apply the model to the training data, and predict labels for the test data:"
   ]
  },
  {
   "cell_type": "code",
   "execution_count": 38,
   "metadata": {
    "pycharm": {
     "name": "#%%\n"
    }
   },
   "outputs": [],
   "source": [
    "model.fit(train.data, train.target)\n",
    "labels = model.predict(test.data)"
   ]
  },
  {
   "cell_type": "markdown",
   "metadata": {},
   "source": [
    "Now that we have predicted the labels for the test data, we can evaluate them to learn about the performance of the estimator.\n",
    "For example, here is the confusion matrix between the true and predicted labels for the test data:"
   ]
  },
  {
   "cell_type": "code",
   "execution_count": 88,
   "metadata": {
    "pycharm": {
     "name": "#%%\n"
    }
   },
   "outputs": [
    {
     "data": {
      "image/png": "[encoded data removed]",
      "text/plain": [
       "<Figure size 720x504 with 1 Axes>"
      ]
     },
     "metadata": {
      "needs_background": "light"
     },
     "output_type": "display_data"
    }
   ],
   "source": [
    "import seaborn as sns\n",
    "from sklearn.metrics import confusion_matrix\n",
    "mat = confusion_matrix(test.target, labels)\n",
    "plt.figure(figsize=(10,7))\n",
    "sns.heatmap(mat.T, square=True, annot=True, fmt='d', cbar=False,\n",
    "            xticklabels=train.target_names, yticklabels=train.target_names)\n",
    "plt.xlabel('true label')\n",
    "plt.ylabel('predicted label');"
   ]
  },
  {
   "cell_type": "markdown",
   "metadata": {},
   "source": [
    "Evidently, even this very simple classifier can successfully separate space talk from computer talk, but it gets confused between talk about religion and talk about Christianity.\n",
    "This is perhaps an expected area of confusion!\n",
    "\n",
    "The very cool thing here is that we now have the tools to determine the category for *any* string, using the ``predict()`` method of this pipeline.\n",
    "Here's a quick utility function that will return the prediction for a single string:"
   ]
  },
  {
   "cell_type": "code",
   "execution_count": 178,
   "metadata": {
    "pycharm": {
     "name": "#%%\n"
    }
   },
   "outputs": [
    {
     "name": "stdout",
     "output_type": "stream",
     "text": [
      "              precision    recall  f1-score   support\n",
      "\n",
      "           0       0.80      0.52      0.63       319\n",
      "           1       0.81      0.65      0.72       389\n",
      "           2       0.82      0.65      0.73       394\n",
      "           3       0.67      0.78      0.72       392\n",
      "           4       0.86      0.77      0.81       385\n",
      "           5       0.89      0.75      0.82       395\n",
      "           6       0.93      0.69      0.80       390\n",
      "           7       0.85      0.92      0.88       396\n",
      "           8       0.94      0.93      0.93       398\n",
      "           9       0.92      0.90      0.91       397\n",
      "          10       0.89      0.97      0.93       399\n",
      "          11       0.59      0.97      0.74       396\n",
      "          12       0.84      0.60      0.70       393\n",
      "          13       0.92      0.74      0.82       396\n",
      "          14       0.84      0.89      0.87       394\n",
      "          15       0.44      0.98      0.61       398\n",
      "          16       0.64      0.94      0.76       364\n",
      "          17       0.93      0.91      0.92       376\n",
      "          18       0.96      0.42      0.58       310\n",
      "          19       0.97      0.14      0.24       251\n",
      "\n",
      "    accuracy                           0.77      7532\n",
      "   macro avg       0.83      0.76      0.76      7532\n",
      "weighted avg       0.82      0.77      0.77      7532\n",
      "\n"
     ]
    }
   ],
   "source": [
    "from sklearn.metrics import classification_report\n",
    "print(classification_report(test.target, labels))"
   ]
  },
  {
   "cell_type": "code",
   "execution_count": 179,
   "metadata": {
    "pycharm": {
     "name": "#%%\n"
    }
   },
   "outputs": [],
   "source": [
    "def predict_category(s, train=train, model=model):\n",
    "    pred = model.predict([s])\n",
    "    return train.target_names[pred[0]]"
   ]
  },
  {
   "cell_type": "markdown",
   "metadata": {},
   "source": [
    "Let's try it out:"
   ]
  },
  {
   "cell_type": "code",
   "execution_count": 90,
   "metadata": {
    "pycharm": {
     "name": "#%%\n"
    }
   },
   "outputs": [
    {
     "data": {
      "text/plain": [
       "'sci.space'"
      ]
     },
     "execution_count": 90,
     "metadata": {},
     "output_type": "execute_result"
    }
   ],
   "source": [
    "predict_category('sending a payload to the ISS')"
   ]
  },
  {
   "cell_type": "code",
   "execution_count": 91,
   "metadata": {
    "pycharm": {
     "name": "#%%\n"
    }
   },
   "outputs": [
    {
     "data": {
      "text/plain": [
       "'comp.graphics'"
      ]
     },
     "execution_count": 91,
     "metadata": {},
     "output_type": "execute_result"
    }
   ],
   "source": [
    "predict_category('sending bytes to the network')"
   ]
  },
  {
   "cell_type": "code",
   "execution_count": 92,
   "metadata": {
    "pycharm": {
     "name": "#%%\n"
    }
   },
   "outputs": [
    {
     "data": {
      "text/plain": [
       "'sci.space'"
      ]
     },
     "execution_count": 92,
     "metadata": {},
     "output_type": "execute_result"
    }
   ],
   "source": [
    "predict_category('sending chocolate')"
   ]
  },
  {
   "cell_type": "code",
   "execution_count": 93,
   "metadata": {
    "pycharm": {
     "name": "#%%\n"
    }
   },
   "outputs": [
    {
     "data": {
      "text/plain": [
       "'soc.religion.christian'"
      ]
     },
     "execution_count": 93,
     "metadata": {},
     "output_type": "execute_result"
    }
   ],
   "source": [
    "predict_category('discussing islam vs atheism')"
   ]
  },
  {
   "cell_type": "code",
   "execution_count": 94,
   "metadata": {
    "pycharm": {
     "name": "#%%\n"
    }
   },
   "outputs": [
    {
     "data": {
      "text/plain": [
       "'comp.graphics'"
      ]
     },
     "execution_count": 94,
     "metadata": {},
     "output_type": "execute_result"
    }
   ],
   "source": [
    "predict_category('determining the screen resolution')"
   ]
  },
  {
   "cell_type": "markdown",
   "metadata": {},
   "source": [
    "Remember that this is nothing more sophisticated than a simple probability model for the (weighted) frequency of each word in the string; nevertheless, the result is striking.\n",
    "Even a very naive algorithm, when used carefully and trained on a large set of high-dimensional data, can be surprisingly effective."
   ]
  },
  {
   "cell_type": "markdown",
   "metadata": {},
   "source": [
    "## When to Use Naive Bayes\n",
    "\n",
    "Because naive Bayesian classifiers make such stringent assumptions about data, they will generally not perform as well as a more complicated model.\n",
    "That said, they have several advantages:\n",
    "\n",
    "- They are extremely fast for both training and prediction\n",
    "- They provide straightforward probabilistic prediction\n",
    "- They are often very easily interpretable\n",
    "- They have very few (if any) tunable parameters\n",
    "\n",
    "These advantages mean a naive Bayesian classifier is often a good choice as an initial baseline classification.\n",
    "If it performs suitably, then congratulations: you have a very fast, very interpretable classifier for your problem.\n",
    "If it does not perform well, then you can begin exploring more sophisticated models, with some baseline knowledge of how well they should perform.\n",
    "\n",
    "Naive Bayes classifiers tend to perform especially well in one of the following situations:\n",
    "\n",
    "- When the naive assumptions actually match the data (very rare in practice)\n",
    "- For very well-separated categories, when model complexity is less important\n",
    "- For very high-dimensional data, when model complexity is less important\n",
    "\n",
    "The last two points seem distinct, but they actually are related: as the dimension of a dataset grows, it is much less likely for any two points to be found close together (after all, they must be close in *every single dimension* to be close overall).\n",
    "This means that clusters in high dimensions tend to be more separated, on average, than clusters in low dimensions, assuming the new dimensions actually add information.\n",
    "For this reason, simplistic classifiers like naive Bayes tend to work as well or better than more complicated classifiers as the dimensionality grows: once you have enough data, even a simple model can be very powerful.\n",
    "\n",
    "\n"
   ]
  }
 ],
 "metadata": {
  "kernelspec": {
   "display_name": "Python 3",
   "language": "python",
   "name": "python3"
  },
  "language_info": {
   "codemirror_mode": {
    "name": "ipython",
    "version": 3
   },
   "file_extension": ".py",
   "mimetype": "text/x-python",
   "name": "python",
   "nbconvert_exporter": "python",
   "pygments_lexer": "ipython3",
   "version": "3.8.8"
  }
 },
 "nbformat": 4,
 "nbformat_minor": 2
}
